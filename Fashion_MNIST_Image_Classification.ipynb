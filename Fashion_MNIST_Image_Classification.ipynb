{
  "nbformat": 4,
  "nbformat_minor": 0,
  "metadata": {
    "colab": {
      "name": "Fashion-MNIST Image Classification.ipynb",
      "provenance": [],
      "collapsed_sections": [],
      "toc_visible": true
    },
    "kernelspec": {
      "name": "python3",
      "display_name": "Python 3"
    },
    "language_info": {
      "name": "python"
    },
    "accelerator": "GPU"
  },
  "cells": [
    {
      "cell_type": "markdown",
      "source": [
        "# Fashion-MNIST Image Classification using Deep Learning with Python"
      ],
      "metadata": {
        "id": "Vxy8YWCjSg3u"
      }
    },
    {
      "cell_type": "markdown",
      "source": [
        "## Problem Statement\n",
        "\n",
        "In this project, we will implement a feedforward neural network model  on the Fashion-MNIST dataset and will build a Feed Forward neural network model to classify images of clothing on train data and make predictions on test data using Hyperparameter tuning techniques to achieve the best accuracy and performance."
      ],
      "metadata": {
        "id": "ndIs2u1vQd2k"
      }
    },
    {
      "cell_type": "markdown",
      "source": [
        "## Dataset Description\n",
        "\n",
        "\n",
        "\n",
        "*   Fashion-MNIST dataset consists of 60,000 training images and 10,000 test images of fashion product database images like Shirts, bags,sneakers etc. \n",
        "\n",
        "*   Fashion MNIST dataset can be accessed directly from [Fashion MNIST data](https://www.tensorflow.org/api_docs/python/tf/keras/datasets/fashion_mnist/load_data) TensorFlow using Keras API.\n",
        "\n",
        "* Each image is 28 pixels in height and 28 pixels in width, for a total of 784 pixels in total.\n",
        "\n",
        "* Each pixel has a single pixel-value associated with it, indicating the lightness or darkness of that pixel, with higher numbers meaning darker. This pixel-value is an integer between 0 and 255.\n",
        "\n",
        "\n",
        "\n"
      ],
      "metadata": {
        "id": "R7DUpXc_T8zE"
      }
    },
    {
      "cell_type": "markdown",
      "metadata": {
        "id": "k--PxEwVSmPt"
      },
      "source": [
        "<table>\n",
        "  <tr><td>\n",
        "    <img src=\"https://tensorflow.org/images/fashion-mnist-sprite.png\"\n",
        "         alt=\"Fashion MNIST sprite\"  width=\"600\">\n",
        "  </td></tr>\n",
        "  <tr><td align=\"center\">\n",
        "    <b>Image Source:</b> <a href=\"https://github.com/zalandoresearch/fashion-mnist\">Fashion-MNIST samples</a> (by Zalando, MIT License).<br/>&nbsp;\n",
        "  </td></tr>\n",
        "</table>\n"
      ]
    },
    {
      "cell_type": "markdown",
      "source": [
        "## Importing Libraries\n",
        "\n",
        "We train a Feed Forward neural network model to classify images of clothing, like sneakers and shirts on train data and make predictions on test data. We use tf.keras, a high-level API to build and train models in TensorFlow."
      ],
      "metadata": {
        "id": "dw-K_VPxNe2T"
      }
    },
    {
      "cell_type": "code",
      "execution_count": null,
      "metadata": {
        "colab": {
          "base_uri": "https://localhost:8080/"
        },
        "id": "6kwKOe0erAe2",
        "outputId": "af110a9b-c310-4e98-e87d-ccf2a02a564a"
      },
      "outputs": [
        {
          "output_type": "stream",
          "name": "stdout",
          "text": [
            "2.8.0\n"
          ]
        }
      ],
      "source": [
        "import numpy as np\n",
        "import pandas as pd\n",
        "import matplotlib.pyplot as plt\n",
        "import seaborn as sns\n",
        "import keras\n",
        "import tensorflow as tf\n",
        "print(tf.__version__)"
      ]
    },
    {
      "cell_type": "markdown",
      "source": [
        "## Loading the Fashion MNIST dataset from Keras API\n",
        "\n",
        "We use the Fashion MNIST dataset which contains 70,000 grayscale images in 10 categories. The images show 10 different categories of clothing images as shown below,\n"
      ],
      "metadata": {
        "id": "l4BAhdjYOZKF"
      }
    },
    {
      "cell_type": "markdown",
      "metadata": {
        "id": "t9FDsUlxCaWW"
      },
      "source": [
        "<table>\n",
        "  <tr>\n",
        "    <th>Label</th>\n",
        "    <th>Class</th>\n",
        "  </tr>\n",
        "  <tr>\n",
        "    <td>0</td>\n",
        "    <td>T-shirt/top</td>\n",
        "  </tr>\n",
        "  <tr>\n",
        "    <td>1</td>\n",
        "    <td>Trouser</td>\n",
        "  </tr>\n",
        "    <tr>\n",
        "    <td>2</td>\n",
        "    <td>Pullover</td>\n",
        "  </tr>\n",
        "    <tr>\n",
        "    <td>3</td>\n",
        "    <td>Dress</td>\n",
        "  </tr>\n",
        "    <tr>\n",
        "    <td>4</td>\n",
        "    <td>Coat</td>\n",
        "  </tr>\n",
        "    <tr>\n",
        "    <td>5</td>\n",
        "    <td>Sandal</td>\n",
        "  </tr>\n",
        "    <tr>\n",
        "    <td>6</td>\n",
        "    <td>Shirt</td>\n",
        "  </tr>\n",
        "    <tr>\n",
        "    <td>7</td>\n",
        "    <td>Sneaker</td>\n",
        "  </tr>\n",
        "    <tr>\n",
        "    <td>8</td>\n",
        "    <td>Bag</td>\n",
        "  </tr>\n",
        "    <tr>\n",
        "    <td>9</td>\n",
        "    <td>Ankle boot</td>\n",
        "  </tr>\n",
        "</table>"
      ]
    },
    {
      "cell_type": "markdown",
      "source": [
        "After loading the dataset from Keras API, it returns four NumPy arrays:\n",
        "\n",
        "- X_train and y_train arrays are the training set arrays used to train the neural network model on training data images.\n",
        "- X_test and y_test arrays are the testing set arrays used to make predictions on the testing data images."
      ],
      "metadata": {
        "id": "RDxOxe1jYIg9"
      }
    },
    {
      "cell_type": "code",
      "source": [
        "fashion_mnist = tf.keras.datasets.fashion_mnist\n",
        "\n",
        "(X_train, y_train), (X_test, y_test) = fashion_mnist.load_data()"
      ],
      "metadata": {
        "id": "Xg6ACx-drJkU"
      },
      "execution_count": null,
      "outputs": []
    },
    {
      "cell_type": "code",
      "source": [
        "# Explore the dataset\n",
        "# Check the shape and size of X_train, X_test, y_train, y_test\n",
        "print (\"Number of observations in training data: \" + str(len(X_train)))\n",
        "print (\"Number of labels in training data: \" + str(len(y_train)))\n",
        "print (\"Dimensions of a single image in X_train:\" + str(X_train[0].shape))\n",
        "print(\"-------------------------------------------------------------\\n\")\n",
        "print (\"Number of observations in test data: \" + str(len(X_test)))\n",
        "print (\"Number of labels in test data: \" + str(len(y_test)))\n",
        "print (\"Dimensions of single image in X_test:\" + str(X_test[0].shape))"
      ],
      "metadata": {
        "colab": {
          "base_uri": "https://localhost:8080/"
        },
        "id": "KdWTob_h0ymn",
        "outputId": "56ad030b-da88-474c-d30a-7671a4cc9e4a"
      },
      "execution_count": null,
      "outputs": [
        {
          "output_type": "stream",
          "name": "stdout",
          "text": [
            "Number of observations in training data: 60000\n",
            "Number of labels in training data: 60000\n",
            "Dimensions of a single image in X_train:(28, 28)\n",
            "-------------------------------------------------------------\n",
            "\n",
            "Number of observations in test data: 10000\n",
            "Number of labels in test data: 10000\n",
            "Dimensions of single image in X_test:(28, 28)\n"
          ]
        }
      ]
    },
    {
      "cell_type": "markdown",
      "source": [
        "Each image is mapped to a single label. Since the class labels are not included with the dataset, we store them here to use later when plotting the images."
      ],
      "metadata": {
        "id": "nPDJgEPIb_ka"
      }
    },
    {
      "cell_type": "code",
      "source": [
        "class_labels = ['T-shirt/top','Trouser','Pullover','Dress','Coat','Sandal','Shirt','Sneakers','Bag','Ankle boot']"
      ],
      "metadata": {
        "id": "po99pN731x-A"
      },
      "execution_count": null,
      "outputs": []
    },
    {
      "cell_type": "markdown",
      "source": [
        "## Data Visualisation of Images in Training Data"
      ],
      "metadata": {
        "id": "ZHBo6-VpcLrR"
      }
    },
    {
      "cell_type": "code",
      "source": [
        "#Plotting First Image from Training Data\n",
        "plt.figure(figsize = (8,8))\n",
        "plt.imshow(X_train[0],cmap = 'Greys');"
      ],
      "metadata": {
        "colab": {
          "base_uri": "https://localhost:8080/",
          "height": 483
        },
        "id": "8HITvBHi2oQ3",
        "outputId": "ff72a513-c3a1-47e0-b5c2-fc3b133ae605"
      },
      "execution_count": null,
      "outputs": [
        {
          "output_type": "display_data",
          "data": {
            "text/plain": [
              "<Figure size 576x576 with 1 Axes>"
            ],
            "image/png": "[encoded data removed]"
          },
          "metadata": {
            "needs_background": "light"
          }
        }
      ]
    },
    {
      "cell_type": "code",
      "source": [
        "#Plotting Second Image from Training Data\n",
        "plt.figure(figsize = (8,8))\n",
        "plt.imshow(X_train[1],cmap = 'Greys');"
      ],
      "metadata": {
        "colab": {
          "base_uri": "https://localhost:8080/",
          "height": 483
        },
        "id": "809zNKPW275k",
        "outputId": "282e5868-2ece-44b2-b6aa-1c96c0d59979"
      },
      "execution_count": null,
      "outputs": [
        {
          "output_type": "display_data",
          "data": {
            "text/plain": [
              "<Figure size 576x576 with 1 Axes>"
            ],
            "image/png": "[encoded data removed]"
          },
          "metadata": {
            "needs_background": "light"
          }
        }
      ]
    },
    {
      "cell_type": "code",
      "source": [
        "#Plotting first 25 images from the training set and display the class name below each image.\n",
        "plt.figure(figsize=(20,16))\n",
        "for i in range(25):\n",
        "    plt.subplot(5,5,i+1)\n",
        "    plt.xticks([])\n",
        "    plt.yticks([])\n",
        "    plt.grid(False)\n",
        "    plt.imshow(X_train[i], cmap='Greys')\n",
        "    plt.xlabel(class_labels[y_train[i]])\n",
        "plt.show()"
      ],
      "metadata": {
        "colab": {
          "base_uri": "https://localhost:8080/",
          "height": 867
        },
        "id": "DqILcfXC4hcf",
        "outputId": "d0994173-5fd4-43ec-ccb9-4a0d090a9d5b"
      },
      "execution_count": null,
      "outputs": [
        {
          "output_type": "display_data",
          "data": {
            "text/plain": [
              "<Figure size 1440x1152 with 25 Axes>"
            ],
            "image/png": "[encoded data removed]"
          },
          "metadata": {}
        }
      ]
    },
    {
      "cell_type": "markdown",
      "source": [
        "## Data Preprocessing\n",
        "\n",
        "The data must be preprocessed before training the neural network model. If we check the first image in the training set, you will see that the pixel values fall in the range of 0 to 255. \n",
        "\n",
        "Hence, we apply feature scaling to scale these values to a range of 0 to 1 before feeding them to the neural network model. So, divide the values by 255 and it's important that the training set and the testing set be preprocessed in the same way.\n",
        "\n"
      ],
      "metadata": {
        "id": "soM9AewncszF"
      }
    },
    {
      "cell_type": "code",
      "execution_count": null,
      "metadata": {
        "id": "bW5WzIPlCaWv"
      },
      "outputs": [],
      "source": [
        "X_train = X_train / 255.0\n",
        "\n",
        "X_test = X_test / 255.0  "
      ]
    },
    {
      "cell_type": "code",
      "source": [
        "X_train.shape , y_train.shape"
      ],
      "metadata": {
        "colab": {
          "base_uri": "https://localhost:8080/"
        },
        "id": "1wvuQxlhr-V0",
        "outputId": "f3c05cff-efd3-43b7-ec57-5d0f430c7212"
      },
      "execution_count": null,
      "outputs": [
        {
          "output_type": "execute_result",
          "data": {
            "text/plain": [
              "((60000, 28, 28), (60000,))"
            ]
          },
          "metadata": {},
          "execution_count": 9
        }
      ]
    },
    {
      "cell_type": "markdown",
      "metadata": {
        "id": "59veuiEZCaW4"
      },
      "source": [
        "## Model Building\n",
        "\n",
        "Building the neural network model requires configuring the layers of the model and then compiling the model."
      ]
    },
    {
      "cell_type": "markdown",
      "source": [
        "### Neural Network Architecture\n",
        "\n",
        "- The first layer in the network, tf.keras.layers.Flatten, transforms the format of the images from a two-dimensional array of 28 x 28 pixels to a one-dimensional array of 28 x 28 = 784 pixels.\n",
        "\n",
        "- After the pixels are flattened, the network consists of a sequence of two tf.keras.layers.Dense layers. These are densely connected, or fully connected neural layers and it has 128 neurons.\n",
        "\n",
        "- The last layer returns a logits array with length of 10. Each node contains a score that indicates the current image belongs to one of the 10 classes/categories in the dataset."
      ],
      "metadata": {
        "id": "9KCy40vhlnZ_"
      }
    },
    {
      "cell_type": "code",
      "execution_count": null,
      "metadata": {
        "id": "9ODch-OFCaW4"
      },
      "outputs": [],
      "source": [
        "model = tf.keras.Sequential([\n",
        "    tf.keras.layers.Flatten(input_shape=(28, 28)),\n",
        "    tf.keras.layers.Dense(128, activation='relu'),\n",
        "    tf.keras.layers.Dense(10)])"
      ]
    },
    {
      "cell_type": "markdown",
      "source": [
        "### Compile the model\n",
        "\n",
        "- **Loss function:** This measures how accurate the model is during training. We want to minimize this function to move the model in the right direction.\n",
        "\n",
        "- **Optimizer:** This is how the model is updated based on the data it sees and its loss function.\n",
        "\n",
        "- **Metrics:** Used to monitor the training and testing steps. We use accuracy as evaluation metric to check how much accurately the images are classified."
      ],
      "metadata": {
        "id": "PYwPCtm8lrrB"
      }
    },
    {
      "cell_type": "code",
      "execution_count": null,
      "metadata": {
        "id": "Lhan11blCaW7"
      },
      "outputs": [],
      "source": [
        "model.compile(optimizer='adam',loss=tf.keras.losses.SparseCategoricalCrossentropy(from_logits=True),metrics=['accuracy'])"
      ]
    },
    {
      "cell_type": "markdown",
      "source": [
        "### Model Training\n",
        "\n",
        "To start training, we use the model.fit method which is called because it \"fits\" the model to the training data and parameter with epochs = 50."
      ],
      "metadata": {
        "id": "QvLoJ7IOmtWt"
      }
    },
    {
      "cell_type": "code",
      "execution_count": null,
      "metadata": {
        "id": "xvwvpA64CaW_",
        "colab": {
          "base_uri": "https://localhost:8080/"
        },
        "outputId": "24960322-1eb1-4a64-e34c-aa3db1df6634"
      },
      "outputs": [
        {
          "output_type": "stream",
          "name": "stdout",
          "text": [
            "Epoch 1/50\n",
            "1875/1875 [==============================] - 5s 2ms/step - loss: 0.4959 - accuracy: 0.8264\n",
            "Epoch 2/50\n",
            "1875/1875 [==============================] - 4s 2ms/step - loss: 0.3762 - accuracy: 0.8653\n",
            "Epoch 3/50\n",
            "1875/1875 [==============================] - 4s 2ms/step - loss: 0.3379 - accuracy: 0.8773\n",
            "Epoch 4/50\n",
            "1875/1875 [==============================] - 4s 2ms/step - loss: 0.3115 - accuracy: 0.8856\n",
            "Epoch 5/50\n",
            "1875/1875 [==============================] - 4s 2ms/step - loss: 0.2952 - accuracy: 0.8906\n",
            "Epoch 6/50\n",
            "1875/1875 [==============================] - 5s 2ms/step - loss: 0.2808 - accuracy: 0.8960\n",
            "Epoch 7/50\n",
            "1875/1875 [==============================] - 5s 2ms/step - loss: 0.2683 - accuracy: 0.9008\n",
            "Epoch 8/50\n",
            "1875/1875 [==============================] - 4s 2ms/step - loss: 0.2573 - accuracy: 0.9043\n",
            "Epoch 9/50\n",
            "1875/1875 [==============================] - 4s 2ms/step - loss: 0.2492 - accuracy: 0.9065\n",
            "Epoch 10/50\n",
            "1875/1875 [==============================] - 4s 2ms/step - loss: 0.2389 - accuracy: 0.9091\n",
            "Epoch 11/50\n",
            "1875/1875 [==============================] - 4s 2ms/step - loss: 0.2320 - accuracy: 0.9134\n",
            "Epoch 12/50\n",
            "1875/1875 [==============================] - 4s 2ms/step - loss: 0.2257 - accuracy: 0.9151\n",
            "Epoch 13/50\n",
            "1875/1875 [==============================] - 4s 2ms/step - loss: 0.2164 - accuracy: 0.9182\n",
            "Epoch 14/50\n",
            "1875/1875 [==============================] - 4s 2ms/step - loss: 0.2109 - accuracy: 0.9202\n",
            "Epoch 15/50\n",
            "1875/1875 [==============================] - 4s 2ms/step - loss: 0.2047 - accuracy: 0.9233\n",
            "Epoch 16/50\n",
            "1875/1875 [==============================] - 4s 2ms/step - loss: 0.1992 - accuracy: 0.9253\n",
            "Epoch 17/50\n",
            "1875/1875 [==============================] - 4s 2ms/step - loss: 0.1943 - accuracy: 0.9268\n",
            "Epoch 18/50\n",
            "1875/1875 [==============================] - 4s 2ms/step - loss: 0.1903 - accuracy: 0.9288\n",
            "Epoch 19/50\n",
            "1875/1875 [==============================] - 4s 2ms/step - loss: 0.1832 - accuracy: 0.9314\n",
            "Epoch 20/50\n",
            "1875/1875 [==============================] - 4s 2ms/step - loss: 0.1806 - accuracy: 0.9326\n",
            "Epoch 21/50\n",
            "1875/1875 [==============================] - 4s 2ms/step - loss: 0.1752 - accuracy: 0.9339\n",
            "Epoch 22/50\n",
            "1875/1875 [==============================] - 4s 2ms/step - loss: 0.1708 - accuracy: 0.9359\n",
            "Epoch 23/50\n",
            "1875/1875 [==============================] - 5s 3ms/step - loss: 0.1682 - accuracy: 0.9371\n",
            "Epoch 24/50\n",
            "1875/1875 [==============================] - 4s 2ms/step - loss: 0.1623 - accuracy: 0.9384\n",
            "Epoch 25/50\n",
            "1875/1875 [==============================] - 4s 2ms/step - loss: 0.1597 - accuracy: 0.9410\n",
            "Epoch 26/50\n",
            "1875/1875 [==============================] - 4s 2ms/step - loss: 0.1561 - accuracy: 0.9412\n",
            "Epoch 27/50\n",
            "1875/1875 [==============================] - 4s 2ms/step - loss: 0.1512 - accuracy: 0.9430\n",
            "Epoch 28/50\n",
            "1875/1875 [==============================] - 4s 2ms/step - loss: 0.1490 - accuracy: 0.9441\n",
            "Epoch 29/50\n",
            "1875/1875 [==============================] - 4s 2ms/step - loss: 0.1467 - accuracy: 0.9452\n",
            "Epoch 30/50\n",
            "1875/1875 [==============================] - 4s 2ms/step - loss: 0.1432 - accuracy: 0.9451\n",
            "Epoch 31/50\n",
            "1875/1875 [==============================] - 4s 2ms/step - loss: 0.1402 - accuracy: 0.9466\n",
            "Epoch 32/50\n",
            "1875/1875 [==============================] - 4s 2ms/step - loss: 0.1387 - accuracy: 0.9480\n",
            "Epoch 33/50\n",
            "1875/1875 [==============================] - 4s 2ms/step - loss: 0.1330 - accuracy: 0.9495\n",
            "Epoch 34/50\n",
            "1875/1875 [==============================] - 4s 2ms/step - loss: 0.1306 - accuracy: 0.9506\n",
            "Epoch 35/50\n",
            "1875/1875 [==============================] - 4s 2ms/step - loss: 0.1301 - accuracy: 0.9516\n",
            "Epoch 36/50\n",
            "1875/1875 [==============================] - 4s 2ms/step - loss: 0.1287 - accuracy: 0.9514\n",
            "Epoch 37/50\n",
            "1875/1875 [==============================] - 4s 2ms/step - loss: 0.1228 - accuracy: 0.9538\n",
            "Epoch 38/50\n",
            "1875/1875 [==============================] - 4s 2ms/step - loss: 0.1221 - accuracy: 0.9544\n",
            "Epoch 39/50\n",
            "1875/1875 [==============================] - 5s 2ms/step - loss: 0.1212 - accuracy: 0.9538\n",
            "Epoch 40/50\n",
            "1875/1875 [==============================] - 5s 3ms/step - loss: 0.1167 - accuracy: 0.9563\n",
            "Epoch 41/50\n",
            "1875/1875 [==============================] - 5s 3ms/step - loss: 0.1146 - accuracy: 0.9574\n",
            "Epoch 42/50\n",
            "1875/1875 [==============================] - 5s 3ms/step - loss: 0.1112 - accuracy: 0.9576\n",
            "Epoch 43/50\n",
            "1875/1875 [==============================] - 5s 3ms/step - loss: 0.1099 - accuracy: 0.9582\n",
            "Epoch 44/50\n",
            "1875/1875 [==============================] - 5s 3ms/step - loss: 0.1119 - accuracy: 0.9576\n",
            "Epoch 45/50\n",
            "1875/1875 [==============================] - 5s 3ms/step - loss: 0.1059 - accuracy: 0.9596\n",
            "Epoch 46/50\n",
            "1875/1875 [==============================] - 6s 3ms/step - loss: 0.1068 - accuracy: 0.9588\n",
            "Epoch 47/50\n",
            "1875/1875 [==============================] - 5s 3ms/step - loss: 0.1048 - accuracy: 0.9610\n",
            "Epoch 48/50\n",
            "1875/1875 [==============================] - 5s 3ms/step - loss: 0.1050 - accuracy: 0.9602\n",
            "Epoch 49/50\n",
            "1875/1875 [==============================] - 5s 3ms/step - loss: 0.1002 - accuracy: 0.9633\n",
            "Epoch 50/50\n",
            "1875/1875 [==============================] - 5s 3ms/step - loss: 0.0979 - accuracy: 0.9638\n"
          ]
        },
        {
          "output_type": "execute_result",
          "data": {
            "text/plain": [
              "<keras.callbacks.History at 0x7f3a8f63df50>"
            ]
          },
          "metadata": {},
          "execution_count": 12
        }
      ],
      "source": [
        "model.fit(X_train, y_train, epochs=50)"
      ]
    },
    {
      "cell_type": "markdown",
      "source": [
        "### Model Evaluation\n",
        "\n",
        "As the model training is completed, the loss and accuracy metrics are displayed. "
      ],
      "metadata": {
        "id": "ibeI_kxUnVZH"
      }
    },
    {
      "cell_type": "code",
      "source": [
        "#Model Accuracy Results\n",
        "print(\"Results:\")\n",
        "print(\"---------------------\")\n",
        "scores_train = model.evaluate(X_train, y_train, verbose= 2)\n",
        "print(\"Training Accuracy: %.2f%%\\n\" % (scores_train[1] * 100))\n",
        "scores_test = model.evaluate(X_test, y_test, verbose= 2)\n",
        "print(\"Testing Accuracy: %.2f%%\\n\" % (scores_test[1] * 100))"
      ],
      "metadata": {
        "colab": {
          "base_uri": "https://localhost:8080/"
        },
        "id": "a-HTjqASfayn",
        "outputId": "1d2ba6ca-e01a-40ac-c8e9-bbce5fa4a994"
      },
      "execution_count": null,
      "outputs": [
        {
          "output_type": "stream",
          "name": "stdout",
          "text": [
            "Results:\n",
            "---------------------\n",
            "1875/1875 - 2s - loss: 0.0884 - accuracy: 0.9678 - 2s/epoch - 1ms/step\n",
            "Training Accuracy: 96.78%\n",
            "\n",
            "313/313 - 1s - loss: 0.4963 - accuracy: 0.8908 - 623ms/epoch - 2ms/step\n",
            "Testing Accuracy: 89.08%\n",
            "\n"
          ]
        }
      ]
    },
    {
      "cell_type": "markdown",
      "source": [
        "We can observe that the accuracy of Training dataset is **96.78%** and testing dataset is **89.08%** which depicts the test dataset accuracy is less than the accuracy on the training dataset. This gap between training accuracy and test accuracy is called **Overfitting**. \n",
        "\n",
        "**Overfitting** happens when a deep learning model performs worse on new  previously unseen data than it does on the training data. \n",
        "\n",
        "Most of the deep learning models tend to be good at fitting to the training data, but the real challenge is **Generalization**, not fitting.\n",
        "\n",
        "Hence, to counter overfitting, we use different strategies and one of the techniques we use in this project is **Hyperparameter tuning** using **GridSearchCV**."
      ],
      "metadata": {
        "id": "XHcKG163ny9r"
      }
    },
    {
      "cell_type": "markdown",
      "source": [
        "## Hyperparameter Tuning of the Neural Network Model using GridSearchCV\n",
        "\n",
        "#### **Hyperparameter Tuning**\n",
        "\n",
        "The process of selecting the right set of hyperparameters for ML/DL model is called **Hyperparameter tuning**.\n",
        "\n",
        "Hyperparameters are the variables that govern the training process and the topology of a model. These variables remain constant over the training process and directly impact the performance of model.\n",
        "\n",
        "#### **Grid Search**\n",
        "\n",
        "Grid Search uses a different combination of all the specified hyperparameters and calculates the performance for each combination and selects the best value for the hyperparameters.\n",
        "\n",
        "#### **Cross Validation**\n",
        "\n",
        "In **GridSearchCV**, along with Grid Search, cross-validation is also performed. **Cross-Validation** is used while training the model. As we know that before training the model with data, we divide the data into two parts – train data and test data. \n",
        "\n",
        "In cross-validation, the process divides the train data further into two parts – the train data and the validation data.\n",
        "\n",
        "The most popular type of Cross-validation is **K-fold Cross-Validation**. It is an iterative process that divides the train data into k partitions. \n",
        "\n",
        "Hence, GridSearch along with cross-validation (GridSearchCV) technique takes huge time cumulatively to evaluate the best hyperparameters and build an optimised model."
      ],
      "metadata": {
        "id": "yQ9BopxY7Gkb"
      }
    },
    {
      "cell_type": "markdown",
      "source": [
        "### 1. Hyperparameter Tuning \"Epochs\""
      ],
      "metadata": {
        "id": "VCW0qvUI_snN"
      }
    },
    {
      "cell_type": "code",
      "source": [
        "#import necessary packages\n",
        "from sklearn.model_selection import GridSearchCV, KFold\n",
        "from keras.models import Sequential\n",
        "from keras.layers import Dense,Flatten\n",
        "from keras.wrappers.scikit_learn import KerasClassifier"
      ],
      "metadata": {
        "id": "0lkc9vDD7IVr"
      },
      "execution_count": null,
      "outputs": []
    },
    {
      "cell_type": "code",
      "source": [
        "#Start defining the model\n",
        "def create_model():\n",
        "  model=Sequential()\n",
        "  model.add(Flatten(input_shape=(28,28)))\n",
        "  model.add(Dense(128,kernel_initializer='normal',activation='relu'))\n",
        "  model.add(Dense(8,kernel_initializer='normal',activation='relu'))\n",
        "  model.add(Dense(10,activation='softmax'))\n",
        "  model.compile(loss = 'sparse_categorical_crossentropy', optimizer = 'Adam', metrics = ['accuracy'])\n",
        "  return model\n",
        "\n",
        "#create model\n",
        "model= KerasClassifier(build_fn=create_model, verbose=0)\n",
        "\n",
        "# Define the grid search parameters\n",
        "epochs = [5,10,50,100]\n",
        "\n",
        "# make a dictionary of the grid search parameters\n",
        "param_grid = dict(epochs=epochs)\n",
        "\n",
        "# build and fit the GridSearchCV\n",
        "grid = GridSearchCV(estimator=model, param_grid=param_grid, cv = KFold(3), verbose=10)\n",
        "grid_result = grid.fit(X_train, y_train)\n",
        "\n",
        "# summarize the results\n",
        "print(\"Best: {0}, using {1}\".format(grid_result.best_score_, grid_result.best_params_))\n",
        "means = grid_result.cv_results_['mean_test_score']\n",
        "stds = grid_result.cv_results_['std_test_score']\n",
        "params = grid_result.cv_results_['params']\n",
        "for mean, stdev, param in zip(means, stds, params):\n",
        "    print('{0} ({1}) with: {2}'.format(mean, stdev, param))"
      ],
      "metadata": {
        "colab": {
          "base_uri": "https://localhost:8080/"
        },
        "id": "zlvfTAfZ_Vls",
        "outputId": "a2cd83a6-1515-49be-f1aa-98c2499e11e6"
      },
      "execution_count": null,
      "outputs": [
        {
          "output_type": "stream",
          "name": "stderr",
          "text": [
            "/usr/local/lib/python3.7/dist-packages/ipykernel_launcher.py:12: DeprecationWarning: KerasClassifier is deprecated, use Sci-Keras (https://github.com/adriangb/scikeras) instead. See https://www.adriangb.com/scikeras/stable/migration.html for help migrating.\n",
            "  if sys.path[0] == '':\n"
          ]
        },
        {
          "output_type": "stream",
          "name": "stdout",
          "text": [
            "Fitting 3 folds for each of 4 candidates, totalling 12 fits\n",
            "[CV 1/3; 1/4] START epochs=5....................................................\n",
            "[CV 1/3; 1/4] END .....................epochs=5;, score=0.869 total time=  14.3s\n",
            "[CV 2/3; 1/4] START epochs=5....................................................\n",
            "[CV 2/3; 1/4] END .....................epochs=5;, score=0.874 total time=  14.1s\n",
            "[CV 3/3; 1/4] START epochs=5....................................................\n",
            "[CV 3/3; 1/4] END .....................epochs=5;, score=0.876 total time=  22.0s\n",
            "[CV 1/3; 2/4] START epochs=10...................................................\n",
            "[CV 1/3; 2/4] END ....................epochs=10;, score=0.871 total time=  42.5s\n",
            "[CV 2/3; 2/4] START epochs=10...................................................\n",
            "[CV 2/3; 2/4] END ....................epochs=10;, score=0.888 total time=  28.9s\n",
            "[CV 3/3; 2/4] START epochs=10...................................................\n",
            "[CV 3/3; 2/4] END ....................epochs=10;, score=0.878 total time=  43.0s\n",
            "[CV 1/3; 3/4] START epochs=50...................................................\n",
            "[CV 1/3; 3/4] END ....................epochs=50;, score=0.885 total time= 2.2min\n",
            "[CV 2/3; 3/4] START epochs=50...................................................\n",
            "[CV 2/3; 3/4] END ....................epochs=50;, score=0.883 total time= 2.0min\n",
            "[CV 3/3; 3/4] START epochs=50...................................................\n",
            "[CV 3/3; 3/4] END ....................epochs=50;, score=0.883 total time= 2.4min\n",
            "[CV 1/3; 4/4] START epochs=100..................................................\n",
            "[CV 1/3; 4/4] END ...................epochs=100;, score=0.878 total time= 4.4min\n",
            "[CV 2/3; 4/4] START epochs=100..................................................\n",
            "[CV 2/3; 4/4] END ...................epochs=100;, score=0.883 total time= 4.4min\n",
            "[CV 3/3; 4/4] START epochs=100..................................................\n",
            "[CV 3/3; 4/4] END ...................epochs=100;, score=0.887 total time= 5.4min\n",
            "Best: 0.88373331228892, using {'epochs': 50}\n",
            "0.873116672039032 (0.0030092381829968304) with: {'epochs': 5}\n",
            "0.8790000081062317 (0.0070039186966805245) with: {'epochs': 10}\n",
            "0.88373331228892 (0.00108191744100155) with: {'epochs': 50}\n",
            "0.8829833269119263 (0.003567035741451879) with: {'epochs': 100}\n"
          ]
        }
      ]
    },
    {
      "cell_type": "markdown",
      "source": [
        "### 2. Hyperparameter Tuning \"Batch Size\""
      ],
      "metadata": {
        "id": "CHnmFxinu7sv"
      }
    },
    {
      "cell_type": "code",
      "source": [
        "#Start defining the model\n",
        "def create_model():\n",
        "  model=Sequential()\n",
        "  model.add(Flatten(input_shape=(28, 28)))\n",
        "  model.add(Dense(128,kernel_initializer='normal',activation='relu'))\n",
        "  model.add(Dense(8,kernel_initializer='normal',activation='relu'))\n",
        "  model.add(Dense(10,activation='softmax'))\n",
        "  model.compile(loss = 'sparse_categorical_crossentropy', optimizer = 'Adam', metrics = ['accuracy'])\n",
        "  return model\n",
        "\n",
        "#create model\n",
        "model= KerasClassifier(build_fn=create_model, verbose=0)\n",
        "\n",
        "# Define the grid search parameters\n",
        "batch_size = [10,20,50]\n",
        "epochs = [50]\n",
        "\n",
        "# make a dictionary of the grid search parameters\n",
        "param_grid = dict(batch_size=batch_size, epochs= epochs)\n",
        "\n",
        "# build and fit the GridSearchCV\n",
        "grid = GridSearchCV(estimator=model, param_grid=param_grid, cv = KFold(3), verbose=10)\n",
        "grid_result = grid.fit(X_train, y_train)\n",
        "\n",
        "# summarize the results\n",
        "print(\"Best: {0}, using {1}\".format(grid_result.best_score_, grid_result.best_params_))\n",
        "means = grid_result.cv_results_['mean_test_score']\n",
        "stds = grid_result.cv_results_['std_test_score']\n",
        "params = grid_result.cv_results_['params']\n",
        "for mean, stdev, param in zip(means, stds, params):\n",
        "    print('{0} ({1}) with: {2}'.format(mean, stdev, param))\n",
        "\n",
        "# summarize the results\n",
        "print(\"Best: {0}, using {1}\".format(grid_result.best_score_, grid_result.best_params_))\n",
        "means = grid_result.cv_results_['mean_test_score']\n",
        "stds = grid_result.cv_results_['std_test_score']\n",
        "params = grid_result.cv_results_['params']\n",
        "for mean, stdev, param in zip(means, stds, params):\n",
        "    print('{0} ({1}) with: {2}'.format(mean, stdev, param))"
      ],
      "metadata": {
        "colab": {
          "base_uri": "https://localhost:8080/"
        },
        "outputId": "94843425-01b9-4843-d9c7-2eeafd955a8a",
        "id": "jOsvWc0p4JXR"
      },
      "execution_count": null,
      "outputs": [
        {
          "output_type": "stream",
          "name": "stderr",
          "text": [
            "/usr/local/lib/python3.7/dist-packages/ipykernel_launcher.py:12: DeprecationWarning: KerasClassifier is deprecated, use Sci-Keras (https://github.com/adriangb/scikeras) instead. See https://www.adriangb.com/scikeras/stable/migration.html for help migrating.\n",
            "  if sys.path[0] == '':\n"
          ]
        },
        {
          "output_type": "stream",
          "name": "stdout",
          "text": [
            "Fitting 3 folds for each of 3 candidates, totalling 9 fits\n",
            "[CV 1/3; 1/3] START batch_size=10, epochs=50....................................\n",
            "[CV 1/3; 1/3] END .....batch_size=10, epochs=50;, score=0.882 total time= 6.5min\n",
            "[CV 2/3; 1/3] START batch_size=10, epochs=50....................................\n",
            "[CV 2/3; 1/3] END .....batch_size=10, epochs=50;, score=0.888 total time= 6.4min\n",
            "[CV 3/3; 1/3] START batch_size=10, epochs=50....................................\n",
            "[CV 3/3; 1/3] END .....batch_size=10, epochs=50;, score=0.882 total time= 6.5min\n",
            "[CV 1/3; 2/3] START batch_size=20, epochs=50....................................\n",
            "[CV 1/3; 2/3] END .....batch_size=20, epochs=50;, score=0.882 total time= 2.8min\n",
            "[CV 2/3; 2/3] START batch_size=20, epochs=50....................................\n",
            "[CV 2/3; 2/3] END .....batch_size=20, epochs=50;, score=0.891 total time= 2.8min\n",
            "[CV 3/3; 2/3] START batch_size=20, epochs=50....................................\n",
            "[CV 3/3; 2/3] END .....batch_size=20, epochs=50;, score=0.888 total time= 2.8min\n",
            "[CV 1/3; 3/3] START batch_size=50, epochs=50....................................\n",
            "[CV 1/3; 3/3] END .....batch_size=50, epochs=50;, score=0.883 total time= 1.4min\n",
            "[CV 2/3; 3/3] START batch_size=50, epochs=50....................................\n",
            "[CV 2/3; 3/3] END .....batch_size=50, epochs=50;, score=0.888 total time= 1.4min\n",
            "[CV 3/3; 3/3] START batch_size=50, epochs=50....................................\n",
            "[CV 3/3; 3/3] END .....batch_size=50, epochs=50;, score=0.891 total time= 1.2min\n",
            "Best: 0.8871166706085205, using {'batch_size': 50, 'epochs': 50}\n",
            "0.8840833504994711 (0.0030879761850893766) with: {'batch_size': 10, 'epochs': 50}\n",
            "0.8870333433151245 (0.003655431559693473) with: {'batch_size': 20, 'epochs': 50}\n",
            "0.8871166706085205 (0.0030540672717176702) with: {'batch_size': 50, 'epochs': 50}\n",
            "Best: 0.8871166706085205, using {'batch_size': 50, 'epochs': 50}\n",
            "0.8840833504994711 (0.0030879761850893766) with: {'batch_size': 10, 'epochs': 50}\n",
            "0.8870333433151245 (0.003655431559693473) with: {'batch_size': 20, 'epochs': 50}\n",
            "0.8871166706085205 (0.0030540672717176702) with: {'batch_size': 50, 'epochs': 50}\n"
          ]
        }
      ]
    },
    {
      "cell_type": "markdown",
      "source": [
        "### 3. Hyperparameter Tuning \"Learning Rate\" and \"Dropout Rate\""
      ],
      "metadata": {
        "id": "pX9ge7flvqqp"
      }
    },
    {
      "cell_type": "code",
      "source": [
        "# import necessary packages\n",
        "from keras.layers import Dropout\n",
        "\n",
        "epochs= 50\n",
        "batch_size=50\n",
        "\n",
        "#Start defining the model\n",
        "def create_model(learn_rate,dropout_rate):\n",
        "  model=Sequential()\n",
        "  model.add(Flatten(input_shape=(28, 28)))\n",
        "  model.add(Dense(128,kernel_initializer='normal',activation='relu'))\n",
        "  model.add(Dropout(dropout_rate))\n",
        "  model.add(Dense(8,kernel_initializer='normal',activation='relu'))\n",
        "  model.add(Dropout(dropout_rate))\n",
        "  model.add(Dense(10,activation='softmax'))\n",
        "  \n",
        "  import tensorflow as tf\n",
        "  opt = tf.keras.optimizers.Adam(learning_rate = learn_rate)\n",
        "  model.compile(loss = 'sparse_categorical_crossentropy', optimizer = 'Adam', metrics = ['accuracy'])\n",
        "  return model\n",
        " \n",
        "# Create the model\n",
        "model = KerasClassifier(build_fn = create_model, epochs=epochs, batch_size=batch_size, verbose = 0) # This comes from the previous best\n",
        "\n",
        "# define the grid search parameters\n",
        "learn_rate = [0.00001, 0.0001, 0.001, 0.01, 0.1]\n",
        "dropout_rate = [0.0, 0.1, 0.2, 0.3]\n",
        "\n",
        "# make a dictionary of the grid search parameters\n",
        "param_grid = dict(learn_rate=learn_rate, dropout_rate=dropout_rate)\n",
        "\n",
        "# build and fit the GridSearchCV\n",
        "grid = GridSearchCV(estimator=model, param_grid=param_grid, cv = KFold(3), verbose=10)\n",
        "grid_result = grid.fit(X_train, y_train)\n",
        "\n",
        "# summarize the results\n",
        "print(\"Best: {0}, using {1}\".format(grid_result.best_score_, grid_result.best_params_))\n",
        "means = grid_result.cv_results_['mean_test_score']\n",
        "stds = grid_result.cv_results_['std_test_score']\n",
        "params = grid_result.cv_results_['params']\n",
        "for mean, stdev, param in zip(means, stds, params):\n",
        "    print('{0} ({1}) with: {2}'.format(mean, stdev, param))"
      ],
      "metadata": {
        "colab": {
          "base_uri": "https://localhost:8080/"
        },
        "id": "6IaZcWfQJu2w",
        "outputId": "9dd9a70b-c0ea-421c-a2f8-53814e7a7afa"
      },
      "execution_count": null,
      "outputs": [
        {
          "output_type": "stream",
          "name": "stderr",
          "text": [
            "/usr/local/lib/python3.7/dist-packages/ipykernel_launcher.py:21: DeprecationWarning: KerasClassifier is deprecated, use Sci-Keras (https://github.com/adriangb/scikeras) instead. See https://www.adriangb.com/scikeras/stable/migration.html for help migrating.\n"
          ]
        },
        {
          "output_type": "stream",
          "name": "stdout",
          "text": [
            "Fitting 3 folds for each of 20 candidates, totalling 60 fits\n",
            "[CV 1/3; 1/20] START dropout_rate=0.0, learn_rate=1e-05.........................\n",
            "[CV 1/3; 1/20] END dropout_rate=0.0, learn_rate=1e-05;, score=0.882 total time= 1.2min\n",
            "[CV 2/3; 1/20] START dropout_rate=0.0, learn_rate=1e-05.........................\n",
            "[CV 2/3; 1/20] END dropout_rate=0.0, learn_rate=1e-05;, score=0.890 total time= 1.4min\n",
            "[CV 3/3; 1/20] START dropout_rate=0.0, learn_rate=1e-05.........................\n",
            "[CV 3/3; 1/20] END dropout_rate=0.0, learn_rate=1e-05;, score=0.887 total time= 1.4min\n",
            "[CV 1/3; 2/20] START dropout_rate=0.0, learn_rate=0.0001........................\n",
            "[CV 1/3; 2/20] END dropout_rate=0.0, learn_rate=0.0001;, score=0.883 total time= 1.4min\n",
            "[CV 2/3; 2/20] START dropout_rate=0.0, learn_rate=0.0001........................\n",
            "[CV 2/3; 2/20] END dropout_rate=0.0, learn_rate=0.0001;, score=0.884 total time= 1.2min\n",
            "[CV 3/3; 2/20] START dropout_rate=0.0, learn_rate=0.0001........................\n",
            "[CV 3/3; 2/20] END dropout_rate=0.0, learn_rate=0.0001;, score=0.884 total time= 1.3min\n",
            "[CV 1/3; 3/20] START dropout_rate=0.0, learn_rate=0.001.........................\n",
            "[CV 1/3; 3/20] END dropout_rate=0.0, learn_rate=0.001;, score=0.884 total time= 1.4min\n",
            "[CV 2/3; 3/20] START dropout_rate=0.0, learn_rate=0.001.........................\n",
            "[CV 2/3; 3/20] END dropout_rate=0.0, learn_rate=0.001;, score=0.887 total time= 1.2min\n",
            "[CV 3/3; 3/20] START dropout_rate=0.0, learn_rate=0.001.........................\n",
            "[CV 3/3; 3/20] END dropout_rate=0.0, learn_rate=0.001;, score=0.886 total time= 1.4min\n",
            "[CV 1/3; 4/20] START dropout_rate=0.0, learn_rate=0.01..........................\n",
            "[CV 1/3; 4/20] END dropout_rate=0.0, learn_rate=0.01;, score=0.883 total time= 1.3min\n",
            "[CV 2/3; 4/20] START dropout_rate=0.0, learn_rate=0.01..........................\n",
            "[CV 2/3; 4/20] END dropout_rate=0.0, learn_rate=0.01;, score=0.880 total time= 1.3min\n",
            "[CV 3/3; 4/20] START dropout_rate=0.0, learn_rate=0.01..........................\n",
            "[CV 3/3; 4/20] END dropout_rate=0.0, learn_rate=0.01;, score=0.888 total time= 1.3min\n",
            "[CV 1/3; 5/20] START dropout_rate=0.0, learn_rate=0.1...........................\n",
            "[CV 1/3; 5/20] END dropout_rate=0.0, learn_rate=0.1;, score=0.883 total time= 1.2min\n",
            "[CV 2/3; 5/20] START dropout_rate=0.0, learn_rate=0.1...........................\n",
            "[CV 2/3; 5/20] END dropout_rate=0.0, learn_rate=0.1;, score=0.884 total time= 1.2min\n",
            "[CV 3/3; 5/20] START dropout_rate=0.0, learn_rate=0.1...........................\n",
            "[CV 3/3; 5/20] END dropout_rate=0.0, learn_rate=0.1;, score=0.885 total time= 1.2min\n",
            "[CV 1/3; 6/20] START dropout_rate=0.1, learn_rate=1e-05.........................\n",
            "[CV 1/3; 6/20] END dropout_rate=0.1, learn_rate=1e-05;, score=0.883 total time= 1.3min\n",
            "[CV 2/3; 6/20] START dropout_rate=0.1, learn_rate=1e-05.........................\n",
            "[CV 2/3; 6/20] END dropout_rate=0.1, learn_rate=1e-05;, score=0.891 total time= 1.3min\n",
            "[CV 3/3; 6/20] START dropout_rate=0.1, learn_rate=1e-05.........................\n",
            "[CV 3/3; 6/20] END dropout_rate=0.1, learn_rate=1e-05;, score=0.888 total time= 1.4min\n",
            "[CV 1/3; 7/20] START dropout_rate=0.1, learn_rate=0.0001........................\n",
            "[CV 1/3; 7/20] END dropout_rate=0.1, learn_rate=0.0001;, score=0.888 total time= 1.4min\n",
            "[CV 2/3; 7/20] START dropout_rate=0.1, learn_rate=0.0001........................\n",
            "[CV 2/3; 7/20] END dropout_rate=0.1, learn_rate=0.0001;, score=0.891 total time= 1.3min\n",
            "[CV 3/3; 7/20] START dropout_rate=0.1, learn_rate=0.0001........................\n",
            "[CV 3/3; 7/20] END dropout_rate=0.1, learn_rate=0.0001;, score=0.891 total time= 1.4min\n",
            "[CV 1/3; 8/20] START dropout_rate=0.1, learn_rate=0.001.........................\n",
            "[CV 1/3; 8/20] END dropout_rate=0.1, learn_rate=0.001;, score=0.890 total time= 1.4min\n",
            "[CV 2/3; 8/20] START dropout_rate=0.1, learn_rate=0.001.........................\n",
            "[CV 2/3; 8/20] END dropout_rate=0.1, learn_rate=0.001;, score=0.893 total time= 1.4min\n",
            "[CV 3/3; 8/20] START dropout_rate=0.1, learn_rate=0.001.........................\n",
            "[CV 3/3; 8/20] END dropout_rate=0.1, learn_rate=0.001;, score=0.891 total time= 1.3min\n",
            "[CV 1/3; 9/20] START dropout_rate=0.1, learn_rate=0.01..........................\n",
            "[CV 1/3; 9/20] END dropout_rate=0.1, learn_rate=0.01;, score=0.884 total time= 1.4min\n",
            "[CV 2/3; 9/20] START dropout_rate=0.1, learn_rate=0.01..........................\n",
            "[CV 2/3; 9/20] END dropout_rate=0.1, learn_rate=0.01;, score=0.894 total time= 1.4min\n",
            "[CV 3/3; 9/20] START dropout_rate=0.1, learn_rate=0.01..........................\n",
            "[CV 3/3; 9/20] END dropout_rate=0.1, learn_rate=0.01;, score=0.891 total time= 1.4min\n",
            "[CV 1/3; 10/20] START dropout_rate=0.1, learn_rate=0.1..........................\n",
            "[CV 1/3; 10/20] END dropout_rate=0.1, learn_rate=0.1;, score=0.885 total time= 1.4min\n",
            "[CV 2/3; 10/20] START dropout_rate=0.1, learn_rate=0.1..........................\n",
            "[CV 2/3; 10/20] END dropout_rate=0.1, learn_rate=0.1;, score=0.890 total time= 1.4min\n",
            "[CV 3/3; 10/20] START dropout_rate=0.1, learn_rate=0.1..........................\n",
            "[CV 3/3; 10/20] END dropout_rate=0.1, learn_rate=0.1;, score=0.890 total time= 1.4min\n",
            "[CV 1/3; 11/20] START dropout_rate=0.2, learn_rate=1e-05........................\n",
            "[CV 1/3; 11/20] END dropout_rate=0.2, learn_rate=1e-05;, score=0.885 total time= 1.4min\n",
            "[CV 2/3; 11/20] START dropout_rate=0.2, learn_rate=1e-05........................\n",
            "[CV 2/3; 11/20] END dropout_rate=0.2, learn_rate=1e-05;, score=0.889 total time= 1.3min\n",
            "[CV 3/3; 11/20] START dropout_rate=0.2, learn_rate=1e-05........................\n",
            "[CV 3/3; 11/20] END dropout_rate=0.2, learn_rate=1e-05;, score=0.888 total time= 1.4min\n",
            "[CV 1/3; 12/20] START dropout_rate=0.2, learn_rate=0.0001.......................\n",
            "[CV 1/3; 12/20] END dropout_rate=0.2, learn_rate=0.0001;, score=0.884 total time= 1.4min\n",
            "[CV 2/3; 12/20] START dropout_rate=0.2, learn_rate=0.0001.......................\n",
            "[CV 2/3; 12/20] END dropout_rate=0.2, learn_rate=0.0001;, score=0.889 total time= 1.3min\n",
            "[CV 3/3; 12/20] START dropout_rate=0.2, learn_rate=0.0001.......................\n",
            "[CV 3/3; 12/20] END dropout_rate=0.2, learn_rate=0.0001;, score=0.886 total time= 1.4min\n",
            "[CV 1/3; 13/20] START dropout_rate=0.2, learn_rate=0.001........................\n",
            "[CV 1/3; 13/20] END dropout_rate=0.2, learn_rate=0.001;, score=0.883 total time= 1.3min\n",
            "[CV 2/3; 13/20] START dropout_rate=0.2, learn_rate=0.001........................\n",
            "[CV 2/3; 13/20] END dropout_rate=0.2, learn_rate=0.001;, score=0.888 total time= 1.4min\n",
            "[CV 3/3; 13/20] START dropout_rate=0.2, learn_rate=0.001........................\n",
            "[CV 3/3; 13/20] END dropout_rate=0.2, learn_rate=0.001;, score=0.886 total time= 1.3min\n",
            "[CV 1/3; 14/20] START dropout_rate=0.2, learn_rate=0.01.........................\n",
            "[CV 1/3; 14/20] END dropout_rate=0.2, learn_rate=0.01;, score=0.881 total time= 1.4min\n",
            "[CV 2/3; 14/20] START dropout_rate=0.2, learn_rate=0.01.........................\n",
            "[CV 2/3; 14/20] END dropout_rate=0.2, learn_rate=0.01;, score=0.887 total time= 1.4min\n",
            "[CV 3/3; 14/20] START dropout_rate=0.2, learn_rate=0.01.........................\n",
            "[CV 3/3; 14/20] END dropout_rate=0.2, learn_rate=0.01;, score=0.886 total time= 1.3min\n",
            "[CV 1/3; 15/20] START dropout_rate=0.2, learn_rate=0.1..........................\n",
            "[CV 1/3; 15/20] END dropout_rate=0.2, learn_rate=0.1;, score=0.885 total time= 1.4min\n",
            "[CV 2/3; 15/20] START dropout_rate=0.2, learn_rate=0.1..........................\n",
            "[CV 2/3; 15/20] END dropout_rate=0.2, learn_rate=0.1;, score=0.885 total time= 1.3min\n",
            "[CV 3/3; 15/20] START dropout_rate=0.2, learn_rate=0.1..........................\n",
            "[CV 3/3; 15/20] END dropout_rate=0.2, learn_rate=0.1;, score=0.883 total time= 1.4min\n",
            "[CV 1/3; 16/20] START dropout_rate=0.3, learn_rate=1e-05........................\n",
            "[CV 1/3; 16/20] END dropout_rate=0.3, learn_rate=1e-05;, score=0.878 total time= 1.3min\n",
            "[CV 2/3; 16/20] START dropout_rate=0.3, learn_rate=1e-05........................\n",
            "[CV 2/3; 16/20] END dropout_rate=0.3, learn_rate=1e-05;, score=0.879 total time= 1.3min\n",
            "[CV 3/3; 16/20] START dropout_rate=0.3, learn_rate=1e-05........................\n",
            "[CV 3/3; 16/20] END dropout_rate=0.3, learn_rate=1e-05;, score=0.877 total time= 1.3min\n",
            "[CV 1/3; 17/20] START dropout_rate=0.3, learn_rate=0.0001.......................\n",
            "[CV 1/3; 17/20] END dropout_rate=0.3, learn_rate=0.0001;, score=0.880 total time= 1.4min\n",
            "[CV 2/3; 17/20] START dropout_rate=0.3, learn_rate=0.0001.......................\n",
            "[CV 2/3; 17/20] END dropout_rate=0.3, learn_rate=0.0001;, score=0.884 total time= 1.3min\n",
            "[CV 3/3; 17/20] START dropout_rate=0.3, learn_rate=0.0001.......................\n",
            "[CV 3/3; 17/20] END dropout_rate=0.3, learn_rate=0.0001;, score=0.881 total time= 1.4min\n",
            "[CV 1/3; 18/20] START dropout_rate=0.3, learn_rate=0.001........................\n",
            "[CV 1/3; 18/20] END dropout_rate=0.3, learn_rate=0.001;, score=0.879 total time= 1.4min\n",
            "[CV 2/3; 18/20] START dropout_rate=0.3, learn_rate=0.001........................\n",
            "[CV 2/3; 18/20] END dropout_rate=0.3, learn_rate=0.001;, score=0.881 total time= 1.4min\n",
            "[CV 3/3; 18/20] START dropout_rate=0.3, learn_rate=0.001........................\n",
            "[CV 3/3; 18/20] END dropout_rate=0.3, learn_rate=0.001;, score=0.881 total time= 1.4min\n",
            "[CV 1/3; 19/20] START dropout_rate=0.3, learn_rate=0.01.........................\n",
            "[CV 1/3; 19/20] END dropout_rate=0.3, learn_rate=0.01;, score=0.877 total time= 1.3min\n",
            "[CV 2/3; 19/20] START dropout_rate=0.3, learn_rate=0.01.........................\n",
            "[CV 2/3; 19/20] END dropout_rate=0.3, learn_rate=0.01;, score=0.879 total time= 1.3min\n",
            "[CV 3/3; 19/20] START dropout_rate=0.3, learn_rate=0.01.........................\n",
            "[CV 3/3; 19/20] END dropout_rate=0.3, learn_rate=0.01;, score=0.882 total time= 1.3min\n",
            "[CV 1/3; 20/20] START dropout_rate=0.3, learn_rate=0.1..........................\n",
            "[CV 1/3; 20/20] END dropout_rate=0.3, learn_rate=0.1;, score=0.879 total time= 1.3min\n",
            "[CV 2/3; 20/20] START dropout_rate=0.3, learn_rate=0.1..........................\n",
            "[CV 2/3; 20/20] END dropout_rate=0.3, learn_rate=0.1;, score=0.881 total time= 1.3min\n",
            "[CV 3/3; 20/20] START dropout_rate=0.3, learn_rate=0.1..........................\n",
            "[CV 3/3; 20/20] END dropout_rate=0.3, learn_rate=0.1;, score=0.882 total time= 1.3min\n",
            "Best: 0.8911333282788595, using {'dropout_rate': 0.1, 'learn_rate': 0.001}\n",
            "0.8861999909083048 (0.003301768110538027) with: {'dropout_rate': 0.0, 'learn_rate': 1e-05}\n",
            "0.883733332157135 (0.0005632171788094458) with: {'dropout_rate': 0.0, 'learn_rate': 0.0001}\n",
            "0.8854333360989889 (0.0010249607787040324) with: {'dropout_rate': 0.0, 'learn_rate': 0.001}\n",
            "0.8834500114123026 (0.003203897253722362) with: {'dropout_rate': 0.0, 'learn_rate': 0.01}\n",
            "0.8840833306312561 (0.0009177302877249054) with: {'dropout_rate': 0.0, 'learn_rate': 0.1}\n",
            "0.8873500029246012 (0.003082202772863031) with: {'dropout_rate': 0.1, 'learn_rate': 1e-05}\n",
            "0.8899333278338114 (0.001615708707770763) with: {'dropout_rate': 0.1, 'learn_rate': 0.0001}\n",
            "0.8911333282788595 (0.0012657873138444593) with: {'dropout_rate': 0.1, 'learn_rate': 0.001}\n",
            "0.8895333210627238 (0.004072735281941113) with: {'dropout_rate': 0.1, 'learn_rate': 0.01}\n",
            "0.8878833254178365 (0.002392440574449277) with: {'dropout_rate': 0.1, 'learn_rate': 0.1}\n",
            "0.8872666557629904 (0.0013990099051488323) with: {'dropout_rate': 0.2, 'learn_rate': 1e-05}\n",
            "0.8864333430926005 (0.0018116978872526237) with: {'dropout_rate': 0.2, 'learn_rate': 0.0001}\n",
            "0.8853000005086263 (0.00194722705683368) with: {'dropout_rate': 0.2, 'learn_rate': 0.001}\n",
            "0.8847000002861023 (0.0026617758398202397) with: {'dropout_rate': 0.2, 'learn_rate': 0.01}\n",
            "0.8845333258310953 (0.0010209059201291468) with: {'dropout_rate': 0.2, 'learn_rate': 0.1}\n",
            "0.8781833251317342 (0.0009204537883214085) with: {'dropout_rate': 0.3, 'learn_rate': 1e-05}\n",
            "0.8816166718800863 (0.002072585083349511) with: {'dropout_rate': 0.3, 'learn_rate': 0.0001}\n",
            "0.8801666498184204 (0.0006847560555586341) with: {'dropout_rate': 0.3, 'learn_rate': 0.001}\n",
            "0.8794166843096415 (0.002229103141699675) with: {'dropout_rate': 0.3, 'learn_rate': 0.01}\n",
            "0.8807666699091593 (0.0011491513269189263) with: {'dropout_rate': 0.3, 'learn_rate': 0.1}\n"
          ]
        }
      ]
    },
    {
      "cell_type": "markdown",
      "source": [
        "### 4. Hyperparameter Tuning \"Activation Function\" and \"Kernel Initializer\""
      ],
      "metadata": {
        "id": "82xXzSgWzKUJ"
      }
    },
    {
      "cell_type": "code",
      "source": [
        "# import necessary packages\n",
        "from keras.layers import Dropout\n",
        "\n",
        "# taken from previous results\n",
        "epochs= 50\n",
        "batch_size=50\n",
        "learn_rate = 0.001\n",
        "dropout_rate = 0.1\n",
        "\n",
        "#Start defining the model\n",
        "def create_model(activation,init):\n",
        "  model=Sequential()\n",
        "  model.add(Flatten(input_shape=(28, 28)))\n",
        "  model.add(Dense(128, kernel_initializer = init, activation = activation))\n",
        "  model.add(Dropout(dropout_rate))\n",
        "  model.add(Dense(8, kernel_initializer = init, activation = activation))\n",
        "  model.add(Dropout(dropout_rate))\n",
        "  model.add(Dense(10,activation='softmax'))\n",
        "\n",
        "  import tensorflow as tf\n",
        "  opt = tf.keras.optimizers.Adam(learning_rate = learn_rate)\n",
        "  model.compile(loss = 'sparse_categorical_crossentropy', optimizer = 'Adam', metrics = ['accuracy'])\n",
        "  return model\n",
        " \n",
        "# Create the model\n",
        "model = KerasClassifier(build_fn = create_model, epochs=epochs, batch_size=batch_size, verbose = 0) # This comes from the previous best\n",
        "\n",
        "# define the grid search parameters\n",
        "activations = ['softmax', 'relu', 'tanh', 'linear']\n",
        "initializers = ['uniform', 'normal', 'zero']\n",
        "\n",
        "# make a dictionary of the grid search parameters\n",
        "param_grid = dict(activation = activations, init = initializers)\n",
        "\n",
        "# build and fit the GridSearchCV\n",
        "grid = GridSearchCV(estimator=model, param_grid=param_grid, cv = KFold(3), verbose=10)\n",
        "grid_result = grid.fit(X_train, y_train)\n",
        "\n",
        "# summarize the results\n",
        "print(\"Best: {0}, using {1}\".format(grid_result.best_score_, grid_result.best_params_))\n",
        "means = grid_result.cv_results_['mean_test_score']\n",
        "stds = grid_result.cv_results_['std_test_score']\n",
        "params = grid_result.cv_results_['params']\n",
        "for mean, stdev, param in zip(means, stds, params):\n",
        "    print('{0} ({1}) with: {2}'.format(mean, stdev, param))"
      ],
      "metadata": {
        "colab": {
          "base_uri": "https://localhost:8080/"
        },
        "outputId": "50d37414-d316-45d5-c280-78016bd749e3",
        "id": "b9F9DF-wxH6z"
      },
      "execution_count": null,
      "outputs": [
        {
          "output_type": "stream",
          "name": "stderr",
          "text": [
            "/usr/local/lib/python3.7/dist-packages/ipykernel_launcher.py:24: DeprecationWarning: KerasClassifier is deprecated, use Sci-Keras (https://github.com/adriangb/scikeras) instead. See https://www.adriangb.com/scikeras/stable/migration.html for help migrating.\n"
          ]
        },
        {
          "output_type": "stream",
          "name": "stdout",
          "text": [
            "Fitting 3 folds for each of 12 candidates, totalling 36 fits\n",
            "[CV 1/3; 1/12] START activation=softmax, init=uniform...........................\n",
            "[CV 1/3; 1/12] END activation=softmax, init=uniform;, score=0.855 total time= 1.4min\n",
            "[CV 2/3; 1/12] START activation=softmax, init=uniform...........................\n",
            "[CV 2/3; 1/12] END activation=softmax, init=uniform;, score=0.862 total time= 1.4min\n",
            "[CV 3/3; 1/12] START activation=softmax, init=uniform...........................\n",
            "[CV 3/3; 1/12] END activation=softmax, init=uniform;, score=0.865 total time= 1.4min\n",
            "[CV 1/3; 2/12] START activation=softmax, init=normal............................\n",
            "[CV 1/3; 2/12] END activation=softmax, init=normal;, score=0.831 total time= 1.4min\n",
            "[CV 2/3; 2/12] START activation=softmax, init=normal............................\n",
            "[CV 2/3; 2/12] END activation=softmax, init=normal;, score=0.865 total time= 1.4min\n",
            "[CV 3/3; 2/12] START activation=softmax, init=normal............................\n",
            "[CV 3/3; 2/12] END activation=softmax, init=normal;, score=0.861 total time= 1.4min\n",
            "[CV 1/3; 3/12] START activation=softmax, init=zero..............................\n",
            "[CV 1/3; 3/12] END activation=softmax, init=zero;, score=0.854 total time= 1.4min\n",
            "[CV 2/3; 3/12] START activation=softmax, init=zero..............................\n",
            "[CV 2/3; 3/12] END activation=softmax, init=zero;, score=0.819 total time= 2.4min\n",
            "[CV 3/3; 3/12] START activation=softmax, init=zero..............................\n",
            "[CV 3/3; 3/12] END activation=softmax, init=zero;, score=0.849 total time= 2.4min\n",
            "[CV 1/3; 4/12] START activation=relu, init=uniform..............................\n",
            "[CV 1/3; 4/12] END activation=relu, init=uniform;, score=0.885 total time= 1.4min\n",
            "[CV 2/3; 4/12] START activation=relu, init=uniform..............................\n",
            "[CV 2/3; 4/12] END activation=relu, init=uniform;, score=0.890 total time= 1.3min\n",
            "[CV 3/3; 4/12] START activation=relu, init=uniform..............................\n",
            "[CV 3/3; 4/12] END activation=relu, init=uniform;, score=0.890 total time= 1.4min\n",
            "[CV 1/3; 5/12] START activation=relu, init=normal...............................\n",
            "[CV 1/3; 5/12] END activation=relu, init=normal;, score=0.891 total time= 1.4min\n",
            "[CV 2/3; 5/12] START activation=relu, init=normal...............................\n",
            "[CV 2/3; 5/12] END activation=relu, init=normal;, score=0.886 total time= 1.3min\n",
            "[CV 3/3; 5/12] START activation=relu, init=normal...............................\n",
            "[CV 3/3; 5/12] END activation=relu, init=normal;, score=0.890 total time= 1.3min\n",
            "[CV 1/3; 6/12] START activation=relu, init=zero.................................\n",
            "[CV 1/3; 6/12] END ..activation=relu, init=zero;, score=0.101 total time= 1.4min\n",
            "[CV 2/3; 6/12] START activation=relu, init=zero.................................\n",
            "[CV 2/3; 6/12] END ..activation=relu, init=zero;, score=0.098 total time= 1.4min\n",
            "[CV 3/3; 6/12] START activation=relu, init=zero.................................\n",
            "[CV 3/3; 6/12] END ..activation=relu, init=zero;, score=0.098 total time= 1.2min\n",
            "[CV 1/3; 7/12] START activation=tanh, init=uniform..............................\n",
            "[CV 1/3; 7/12] END activation=tanh, init=uniform;, score=0.888 total time= 1.2min\n",
            "[CV 2/3; 7/12] START activation=tanh, init=uniform..............................\n",
            "[CV 2/3; 7/12] END activation=tanh, init=uniform;, score=0.889 total time= 1.4min\n",
            "[CV 3/3; 7/12] START activation=tanh, init=uniform..............................\n",
            "[CV 3/3; 7/12] END activation=tanh, init=uniform;, score=0.885 total time= 1.4min\n",
            "[CV 1/3; 8/12] START activation=tanh, init=normal...............................\n",
            "[CV 1/3; 8/12] END activation=tanh, init=normal;, score=0.888 total time= 1.4min\n",
            "[CV 2/3; 8/12] START activation=tanh, init=normal...............................\n",
            "[CV 2/3; 8/12] END activation=tanh, init=normal;, score=0.891 total time= 1.2min\n",
            "[CV 3/3; 8/12] START activation=tanh, init=normal...............................\n",
            "[CV 3/3; 8/12] END activation=tanh, init=normal;, score=0.888 total time= 1.4min\n",
            "[CV 1/3; 9/12] START activation=tanh, init=zero.................................\n",
            "[CV 1/3; 9/12] END ..activation=tanh, init=zero;, score=0.097 total time= 1.3min\n",
            "[CV 2/3; 9/12] START activation=tanh, init=zero.................................\n",
            "[CV 2/3; 9/12] END ..activation=tanh, init=zero;, score=0.100 total time= 1.4min\n",
            "[CV 3/3; 9/12] START activation=tanh, init=zero.................................\n",
            "[CV 3/3; 9/12] END ..activation=tanh, init=zero;, score=0.097 total time= 1.4min\n",
            "[CV 1/3; 10/12] START activation=linear, init=uniform...........................\n",
            "[CV 1/3; 10/12] END activation=linear, init=uniform;, score=0.845 total time= 1.4min\n",
            "[CV 2/3; 10/12] START activation=linear, init=uniform...........................\n",
            "[CV 2/3; 10/12] END activation=linear, init=uniform;, score=0.853 total time= 1.2min\n",
            "[CV 3/3; 10/12] START activation=linear, init=uniform...........................\n",
            "[CV 3/3; 10/12] END activation=linear, init=uniform;, score=0.845 total time= 1.3min\n",
            "[CV 1/3; 11/12] START activation=linear, init=normal............................\n",
            "[CV 1/3; 11/12] END activation=linear, init=normal;, score=0.845 total time= 1.2min\n",
            "[CV 2/3; 11/12] START activation=linear, init=normal............................\n",
            "[CV 2/3; 11/12] END activation=linear, init=normal;, score=0.847 total time= 1.4min\n",
            "[CV 3/3; 11/12] START activation=linear, init=normal............................\n",
            "[CV 3/3; 11/12] END activation=linear, init=normal;, score=0.849 total time= 1.4min\n",
            "[CV 1/3; 12/12] START activation=linear, init=zero..............................\n",
            "[CV 1/3; 12/12] END activation=linear, init=zero;, score=0.099 total time= 1.2min\n",
            "[CV 2/3; 12/12] START activation=linear, init=zero..............................\n",
            "[CV 2/3; 12/12] END activation=linear, init=zero;, score=0.100 total time= 1.4min\n",
            "[CV 3/3; 12/12] START activation=linear, init=zero..............................\n",
            "[CV 3/3; 12/12] END activation=linear, init=zero;, score=0.097 total time= 1.4min\n",
            "Best: 0.889383335908254, using {'activation': 'tanh', 'init': 'normal'}\n",
            "0.8606666525204977 (0.0038441255364490903) with: {'activation': 'softmax', 'init': 'uniform'}\n",
            "0.8525500098864237 (0.015203299417364513) with: {'activation': 'softmax', 'init': 'normal'}\n",
            "0.8409666419029236 (0.015558511911630926) with: {'activation': 'softmax', 'init': 'zero'}\n",
            "0.8885499835014343 (0.002510307170550098) with: {'activation': 'relu', 'init': 'uniform'}\n",
            "0.8886666695276896 (0.0019293225038908859) with: {'activation': 'relu', 'init': 'normal'}\n",
            "0.09868333488702774 (0.001288626258272492) with: {'activation': 'relu', 'init': 'zero'}\n",
            "0.8873499830563863 (0.0017639870523099414) with: {'activation': 'tanh', 'init': 'uniform'}\n",
            "0.889383335908254 (0.0014636236137625957) with: {'activation': 'tanh', 'init': 'normal'}\n",
            "0.09793333212534587 (0.0017089641314372592) with: {'activation': 'tanh', 'init': 'zero'}\n",
            "0.8479166626930237 (0.003740411214654476) with: {'activation': 'linear', 'init': 'uniform'}\n",
            "0.846833328406016 (0.0016937633707365275) with: {'activation': 'linear', 'init': 'normal'}\n",
            "0.09824999918540318 (0.0011626130975383707) with: {'activation': 'linear', 'init': 'zero'}\n"
          ]
        }
      ]
    },
    {
      "cell_type": "markdown",
      "source": [
        "### 5. Hyperparameter Tuning \"Hidden Layer Neuron 1\" and \"Hidden Layer Neuron 2\""
      ],
      "metadata": {
        "id": "LXd0b3QDzdkR"
      }
    },
    {
      "cell_type": "code",
      "source": [
        "# import necessary packages\n",
        "from keras.layers import Dropout\n",
        "\n",
        "# taken from previous results\n",
        "epochs= 50\n",
        "batch_size=50\n",
        "learn_rate = 0.001\n",
        "dropout_rate = 0.1\n",
        "init = 'normal'   \n",
        "activation = 'tanh'\n",
        "\n",
        "#Start defining the model\n",
        "def create_model(neuron1,neuron2):\n",
        "  model=Sequential()\n",
        "  model.add(Flatten(input_shape=(28, 28)))\n",
        "  model.add(Dense(128, kernel_initializer = init, activation = activation))\n",
        "  model.add(Dropout(dropout_rate))\n",
        "  model.add(Dense(8, kernel_initializer = init, activation = activation))\n",
        "  model.add(Dropout(dropout_rate))\n",
        "  model.add(Dense(10,activation='softmax'))\n",
        "  import tensorflow as tf\n",
        "  opt = tf.keras.optimizers.Adam(learning_rate = learn_rate)\n",
        "  model.compile(loss = 'sparse_categorical_crossentropy', optimizer = 'Adam', metrics = ['accuracy'])\n",
        "  return model\n",
        " \n",
        "# Create the model\n",
        "model = KerasClassifier(build_fn = create_model, epochs=epochs, batch_size=batch_size, verbose = 0) # This comes from the previous best\n",
        "\n",
        "# define the grid search parameters\n",
        "neuron1 = [8, 16,32,64,128]\n",
        "neuron2 = [8,16,32]\n",
        "\n",
        "# make a dictionary of the grid search parameters\n",
        "param_grid = dict(neuron1 = neuron1, neuron2 = neuron2)\n",
        "\n",
        "# build and fit the GridSearchCV\n",
        "grid = GridSearchCV(estimator=model, param_grid=param_grid, cv = KFold(3), verbose=10)\n",
        "grid_result = grid.fit(X_train, y_train)\n",
        "\n",
        "# summarize the results\n",
        "print(\"Best: {0}, using {1}\".format(grid_result.best_score_, grid_result.best_params_))\n",
        "means = grid_result.cv_results_['mean_test_score']\n",
        "stds = grid_result.cv_results_['std_test_score']\n",
        "params = grid_result.cv_results_['params']\n",
        "for mean, stdev, param in zip(means, stds, params):\n",
        "    print('{0} ({1}) with: {2}'.format(mean, stdev, param))"
      ],
      "metadata": {
        "colab": {
          "base_uri": "https://localhost:8080/"
        },
        "outputId": "71742fa4-4f4a-4801-b824-afc98af3f16a",
        "id": "2dNch9-4CL-q"
      },
      "execution_count": null,
      "outputs": [
        {
          "output_type": "stream",
          "name": "stderr",
          "text": [
            "/usr/local/lib/python3.7/dist-packages/ipykernel_launcher.py:26: DeprecationWarning: KerasClassifier is deprecated, use Sci-Keras (https://github.com/adriangb/scikeras) instead. See https://www.adriangb.com/scikeras/stable/migration.html for help migrating.\n"
          ]
        },
        {
          "output_type": "stream",
          "name": "stdout",
          "text": [
            "Fitting 3 folds for each of 15 candidates, totalling 45 fits\n",
            "[CV 1/3; 1/15] START neuron1=8, neuron2=8.......................................\n",
            "[CV 1/3; 1/15] END ........neuron1=8, neuron2=8;, score=0.887 total time= 1.4min\n",
            "[CV 2/3; 1/15] START neuron1=8, neuron2=8.......................................\n",
            "[CV 2/3; 1/15] END ........neuron1=8, neuron2=8;, score=0.890 total time= 1.4min\n",
            "[CV 3/3; 1/15] START neuron1=8, neuron2=8.......................................\n",
            "[CV 3/3; 1/15] END ........neuron1=8, neuron2=8;, score=0.890 total time= 1.4min\n",
            "[CV 1/3; 2/15] START neuron1=8, neuron2=16......................................\n",
            "[CV 1/3; 2/15] END .......neuron1=8, neuron2=16;, score=0.886 total time= 1.4min\n",
            "[CV 2/3; 2/15] START neuron1=8, neuron2=16......................................\n",
            "[CV 2/3; 2/15] END .......neuron1=8, neuron2=16;, score=0.887 total time= 1.4min\n",
            "[CV 3/3; 2/15] START neuron1=8, neuron2=16......................................\n",
            "[CV 3/3; 2/15] END .......neuron1=8, neuron2=16;, score=0.892 total time= 1.2min\n",
            "[CV 1/3; 3/15] START neuron1=8, neuron2=32......................................\n",
            "[CV 1/3; 3/15] END .......neuron1=8, neuron2=32;, score=0.883 total time= 1.3min\n",
            "[CV 2/3; 3/15] START neuron1=8, neuron2=32......................................\n",
            "[CV 2/3; 3/15] END .......neuron1=8, neuron2=32;, score=0.889 total time= 1.3min\n",
            "[CV 3/3; 3/15] START neuron1=8, neuron2=32......................................\n",
            "[CV 3/3; 3/15] END .......neuron1=8, neuron2=32;, score=0.888 total time= 1.4min\n",
            "[CV 1/3; 4/15] START neuron1=16, neuron2=8......................................\n",
            "[CV 1/3; 4/15] END .......neuron1=16, neuron2=8;, score=0.886 total time= 1.4min\n",
            "[CV 2/3; 4/15] START neuron1=16, neuron2=8......................................\n",
            "[CV 2/3; 4/15] END .......neuron1=16, neuron2=8;, score=0.892 total time= 1.2min\n",
            "[CV 3/3; 4/15] START neuron1=16, neuron2=8......................................\n",
            "[CV 3/3; 4/15] END .......neuron1=16, neuron2=8;, score=0.892 total time= 1.4min\n",
            "[CV 1/3; 5/15] START neuron1=16, neuron2=16.....................................\n",
            "[CV 1/3; 5/15] END ......neuron1=16, neuron2=16;, score=0.886 total time= 1.3min\n",
            "[CV 2/3; 5/15] START neuron1=16, neuron2=16.....................................\n",
            "[CV 2/3; 5/15] END ......neuron1=16, neuron2=16;, score=0.893 total time= 1.2min\n",
            "[CV 3/3; 5/15] START neuron1=16, neuron2=16.....................................\n",
            "[CV 3/3; 5/15] END ......neuron1=16, neuron2=16;, score=0.886 total time= 1.4min\n",
            "[CV 1/3; 6/15] START neuron1=16, neuron2=32.....................................\n",
            "[CV 1/3; 6/15] END ......neuron1=16, neuron2=32;, score=0.887 total time= 1.4min\n",
            "[CV 2/3; 6/15] START neuron1=16, neuron2=32.....................................\n",
            "[CV 2/3; 6/15] END ......neuron1=16, neuron2=32;, score=0.888 total time= 1.4min\n",
            "[CV 3/3; 6/15] START neuron1=16, neuron2=32.....................................\n",
            "[CV 3/3; 6/15] END ......neuron1=16, neuron2=32;, score=0.890 total time= 1.2min\n",
            "[CV 1/3; 7/15] START neuron1=32, neuron2=8......................................\n",
            "[CV 1/3; 7/15] END .......neuron1=32, neuron2=8;, score=0.886 total time= 1.4min\n",
            "[CV 2/3; 7/15] START neuron1=32, neuron2=8......................................\n",
            "[CV 2/3; 7/15] END .......neuron1=32, neuron2=8;, score=0.888 total time= 1.4min\n",
            "[CV 3/3; 7/15] START neuron1=32, neuron2=8......................................\n",
            "[CV 3/3; 7/15] END .......neuron1=32, neuron2=8;, score=0.890 total time= 1.2min\n",
            "[CV 1/3; 8/15] START neuron1=32, neuron2=16.....................................\n",
            "[CV 1/3; 8/15] END ......neuron1=32, neuron2=16;, score=0.885 total time= 1.3min\n",
            "[CV 2/3; 8/15] START neuron1=32, neuron2=16.....................................\n",
            "[CV 2/3; 8/15] END ......neuron1=32, neuron2=16;, score=0.889 total time= 1.2min\n",
            "[CV 3/3; 8/15] START neuron1=32, neuron2=16.....................................\n",
            "[CV 3/3; 8/15] END ......neuron1=32, neuron2=16;, score=0.883 total time= 1.2min\n",
            "[CV 1/3; 9/15] START neuron1=32, neuron2=32.....................................\n",
            "[CV 1/3; 9/15] END ......neuron1=32, neuron2=32;, score=0.887 total time= 1.4min\n",
            "[CV 2/3; 9/15] START neuron1=32, neuron2=32.....................................\n",
            "[CV 2/3; 9/15] END ......neuron1=32, neuron2=32;, score=0.892 total time= 1.3min\n",
            "[CV 3/3; 9/15] START neuron1=32, neuron2=32.....................................\n",
            "[CV 3/3; 9/15] END ......neuron1=32, neuron2=32;, score=0.891 total time= 1.4min\n",
            "[CV 1/3; 10/15] START neuron1=64, neuron2=8.....................................\n",
            "[CV 1/3; 10/15] END ......neuron1=64, neuron2=8;, score=0.885 total time= 1.4min\n",
            "[CV 2/3; 10/15] START neuron1=64, neuron2=8.....................................\n",
            "[CV 2/3; 10/15] END ......neuron1=64, neuron2=8;, score=0.887 total time= 1.2min\n",
            "[CV 3/3; 10/15] START neuron1=64, neuron2=8.....................................\n",
            "[CV 3/3; 10/15] END ......neuron1=64, neuron2=8;, score=0.890 total time= 1.2min\n",
            "[CV 1/3; 11/15] START neuron1=64, neuron2=16....................................\n",
            "[CV 1/3; 11/15] END .....neuron1=64, neuron2=16;, score=0.887 total time= 1.3min\n",
            "[CV 2/3; 11/15] START neuron1=64, neuron2=16....................................\n",
            "[CV 2/3; 11/15] END .....neuron1=64, neuron2=16;, score=0.886 total time= 1.2min\n",
            "[CV 3/3; 11/15] START neuron1=64, neuron2=16....................................\n",
            "[CV 3/3; 11/15] END .....neuron1=64, neuron2=16;, score=0.887 total time= 1.4min\n",
            "[CV 1/3; 12/15] START neuron1=64, neuron2=32....................................\n",
            "[CV 1/3; 12/15] END .....neuron1=64, neuron2=32;, score=0.884 total time= 1.2min\n",
            "[CV 2/3; 12/15] START neuron1=64, neuron2=32....................................\n",
            "[CV 2/3; 12/15] END .....neuron1=64, neuron2=32;, score=0.887 total time= 1.4min\n",
            "[CV 3/3; 12/15] START neuron1=64, neuron2=32....................................\n",
            "[CV 3/3; 12/15] END .....neuron1=64, neuron2=32;, score=0.889 total time= 1.2min\n",
            "[CV 1/3; 13/15] START neuron1=128, neuron2=8....................................\n",
            "[CV 1/3; 13/15] END .....neuron1=128, neuron2=8;, score=0.887 total time= 1.2min\n",
            "[CV 2/3; 13/15] START neuron1=128, neuron2=8....................................\n",
            "[CV 2/3; 13/15] END .....neuron1=128, neuron2=8;, score=0.887 total time= 1.4min\n",
            "[CV 3/3; 13/15] START neuron1=128, neuron2=8....................................\n",
            "[CV 3/3; 13/15] END .....neuron1=128, neuron2=8;, score=0.886 total time= 1.2min\n",
            "[CV 1/3; 14/15] START neuron1=128, neuron2=16...................................\n",
            "[CV 1/3; 14/15] END ....neuron1=128, neuron2=16;, score=0.887 total time= 1.4min\n",
            "[CV 2/3; 14/15] START neuron1=128, neuron2=16...................................\n",
            "[CV 2/3; 14/15] END ....neuron1=128, neuron2=16;, score=0.891 total time= 1.4min\n",
            "[CV 3/3; 14/15] START neuron1=128, neuron2=16...................................\n",
            "[CV 3/3; 14/15] END ....neuron1=128, neuron2=16;, score=0.888 total time= 1.4min\n",
            "[CV 1/3; 15/15] START neuron1=128, neuron2=32...................................\n",
            "[CV 1/3; 15/15] END ....neuron1=128, neuron2=32;, score=0.886 total time= 1.4min\n",
            "[CV 2/3; 15/15] START neuron1=128, neuron2=32...................................\n",
            "[CV 2/3; 15/15] END ....neuron1=128, neuron2=32;, score=0.889 total time= 1.4min\n",
            "[CV 3/3; 15/15] START neuron1=128, neuron2=32...................................\n",
            "[CV 3/3; 15/15] END ....neuron1=128, neuron2=32;, score=0.889 total time= 1.2min\n",
            "Best: 0.8901333411534628, using {'neuron1': 16, 'neuron2': 8}\n",
            "0.8892166415850321 (0.001532066041270005) with: {'neuron1': 8, 'neuron2': 8}\n",
            "0.8883333206176758 (0.0024536752954874234) with: {'neuron1': 8, 'neuron2': 16}\n",
            "0.886650005976359 (0.002362198191786185) with: {'neuron1': 8, 'neuron2': 32}\n",
            "0.8901333411534628 (0.002995914957982807) with: {'neuron1': 16, 'neuron2': 8}\n",
            "0.8882666627566019 (0.003296794232392653) with: {'neuron1': 16, 'neuron2': 16}\n",
            "0.8883500099182129 (0.0012576292397763597) with: {'neuron1': 16, 'neuron2': 32}\n",
            "0.8877666592597961 (0.0014290813418373438) with: {'neuron1': 32, 'neuron2': 8}\n",
            "0.8854499856630961 (0.0025661262422388502) with: {'neuron1': 32, 'neuron2': 16}\n",
            "0.8897999922434489 (0.001952360563402095) with: {'neuron1': 32, 'neuron2': 32}\n",
            "0.8872999946276346 (0.001992904291719441) with: {'neuron1': 64, 'neuron2': 8}\n",
            "0.8866999944051107 (0.0005016738754667008) with: {'neuron1': 64, 'neuron2': 16}\n",
            "0.8864166736602783 (0.002144103930475007) with: {'neuron1': 64, 'neuron2': 32}\n",
            "0.8869166771570841 (0.0004731509267857259) with: {'neuron1': 128, 'neuron2': 8}\n",
            "0.8887333472569784 (0.0015515226152843817) with: {'neuron1': 128, 'neuron2': 16}\n",
            "0.8877833286921183 (0.0014732858710188197) with: {'neuron1': 128, 'neuron2': 32}\n"
          ]
        }
      ]
    },
    {
      "cell_type": "markdown",
      "source": [
        "### 6. Hyperparameter Tuning \"Optimizers\""
      ],
      "metadata": {
        "id": "5obt57yl0w33"
      }
    },
    {
      "cell_type": "code",
      "source": [
        "# import necessary packages\n",
        "from keras.layers import Dropout\n",
        "\n",
        "# taken from previous results\n",
        "epochs= 50\n",
        "batch_size=50\n",
        "learn_rate = 0.001\n",
        "dropout_rate = 0.1\n",
        "init = 'normal'   \n",
        "activation = 'tanh'\n",
        "\n",
        "\n",
        "#Start defining the model\n",
        "def create_model(optimizer='adam'):\n",
        "  model=Sequential()\n",
        "  model.add(Flatten(input_shape=(28, 28)))\n",
        "  model.add(Dense(16, kernel_initializer = init, activation = activation))\n",
        "  model.add(Dropout(dropout_rate))\n",
        "  model.add(Dense(8, kernel_initializer = init, activation = activation))\n",
        "  model.add(Dropout(dropout_rate))\n",
        "  model.add(Dense(10,activation='softmax'))\n",
        "  \n",
        "  import tensorflow as tf\n",
        "  opt = tf.keras.optimizers.Adam(learning_rate = learn_rate)\n",
        "  model.compile(loss = 'sparse_categorical_crossentropy', optimizer = 'Adam', metrics = ['accuracy'])\n",
        "  return model\n",
        " \n",
        "# Create the model\n",
        "model = KerasClassifier(build_fn = create_model, epochs=epochs, batch_size=batch_size, verbose = 0) # This comes from the previous best\n",
        "\n",
        "# define the grid search parameters\n",
        "optimizer = ['SGD', 'RMSprop', 'Adagrad', 'Adadelta', 'Adam', 'Adamax', 'Nadam']\n",
        "\n",
        "\n",
        "# make a dictionary of the grid search parameters\n",
        "param_grid = dict(optimizer=optimizer)\n",
        "\n",
        "# build and fit the GridSearchCV\n",
        "grid = GridSearchCV(estimator=model, param_grid=param_grid, cv = KFold(3), verbose=10)\n",
        "grid_result = grid.fit(X_train, y_train)\n",
        "\n",
        "# summarize the results\n",
        "print(\"Best: {0}, using {1}\".format(grid_result.best_score_, grid_result.best_params_))\n",
        "means = grid_result.cv_results_['mean_test_score']\n",
        "stds = grid_result.cv_results_['std_test_score']\n",
        "params = grid_result.cv_results_['params']\n",
        "for mean, stdev, param in zip(means, stds, params):\n",
        "    print('{0} ({1}) with: {2}'.format(mean, stdev, param))"
      ],
      "metadata": {
        "colab": {
          "base_uri": "https://localhost:8080/"
        },
        "outputId": "27823fe9-edab-469c-a15a-d80f78434e43",
        "id": "gYqIRXeSU2gV"
      },
      "execution_count": null,
      "outputs": [
        {
          "output_type": "stream",
          "name": "stderr",
          "text": [
            "/usr/local/lib/python3.7/dist-packages/ipykernel_launcher.py:27: DeprecationWarning: KerasClassifier is deprecated, use Sci-Keras (https://github.com/adriangb/scikeras) instead. See https://www.adriangb.com/scikeras/stable/migration.html for help migrating.\n"
          ]
        },
        {
          "output_type": "stream",
          "name": "stdout",
          "text": [
            "Fitting 3 folds for each of 7 candidates, totalling 21 fits\n",
            "[CV 1/3; 1/7] START optimizer=SGD...............................................\n",
            "[CV 1/3; 1/7] END ................optimizer=SGD;, score=0.859 total time= 1.4min\n",
            "[CV 2/3; 1/7] START optimizer=SGD...............................................\n",
            "[CV 2/3; 1/7] END ................optimizer=SGD;, score=0.867 total time= 1.2min\n",
            "[CV 3/3; 1/7] START optimizer=SGD...............................................\n",
            "[CV 3/3; 1/7] END ................optimizer=SGD;, score=0.865 total time= 1.2min\n",
            "[CV 1/3; 2/7] START optimizer=RMSprop...........................................\n",
            "[CV 1/3; 2/7] END ............optimizer=RMSprop;, score=0.864 total time= 1.4min\n",
            "[CV 2/3; 2/7] START optimizer=RMSprop...........................................\n",
            "[CV 2/3; 2/7] END ............optimizer=RMSprop;, score=0.866 total time= 1.4min\n",
            "[CV 3/3; 2/7] START optimizer=RMSprop...........................................\n",
            "[CV 3/3; 2/7] END ............optimizer=RMSprop;, score=0.860 total time= 1.4min\n",
            "[CV 1/3; 3/7] START optimizer=Adagrad...........................................\n",
            "[CV 1/3; 3/7] END ............optimizer=Adagrad;, score=0.859 total time= 1.4min\n",
            "[CV 2/3; 3/7] START optimizer=Adagrad...........................................\n",
            "[CV 2/3; 3/7] END ............optimizer=Adagrad;, score=0.866 total time= 1.4min\n",
            "[CV 3/3; 3/7] START optimizer=Adagrad...........................................\n",
            "[CV 3/3; 3/7] END ............optimizer=Adagrad;, score=0.867 total time= 1.4min\n",
            "[CV 1/3; 4/7] START optimizer=Adadelta..........................................\n",
            "[CV 1/3; 4/7] END ...........optimizer=Adadelta;, score=0.855 total time= 1.4min\n",
            "[CV 2/3; 4/7] START optimizer=Adadelta..........................................\n",
            "[CV 2/3; 4/7] END ...........optimizer=Adadelta;, score=0.870 total time= 1.4min\n",
            "[CV 3/3; 4/7] START optimizer=Adadelta..........................................\n",
            "[CV 3/3; 4/7] END ...........optimizer=Adadelta;, score=0.870 total time= 1.2min\n",
            "[CV 1/3; 5/7] START optimizer=Adam..............................................\n",
            "[CV 1/3; 5/7] END ...............optimizer=Adam;, score=0.862 total time= 1.4min\n",
            "[CV 2/3; 5/7] START optimizer=Adam..............................................\n",
            "[CV 2/3; 5/7] END ...............optimizer=Adam;, score=0.866 total time= 1.4min\n",
            "[CV 3/3; 5/7] START optimizer=Adam..............................................\n",
            "[CV 3/3; 5/7] END ...............optimizer=Adam;, score=0.865 total time= 1.4min\n",
            "[CV 1/3; 6/7] START optimizer=Adamax............................................\n",
            "[CV 1/3; 6/7] END .............optimizer=Adamax;, score=0.861 total time= 1.2min\n",
            "[CV 2/3; 6/7] START optimizer=Adamax............................................\n",
            "[CV 2/3; 6/7] END .............optimizer=Adamax;, score=0.868 total time= 1.4min\n",
            "[CV 3/3; 6/7] START optimizer=Adamax............................................\n",
            "[CV 3/3; 6/7] END .............optimizer=Adamax;, score=0.866 total time= 1.2min\n",
            "[CV 1/3; 7/7] START optimizer=Nadam.............................................\n",
            "[CV 1/3; 7/7] END ..............optimizer=Nadam;, score=0.860 total time= 1.4min\n",
            "[CV 2/3; 7/7] START optimizer=Nadam.............................................\n",
            "[CV 2/3; 7/7] END ..............optimizer=Nadam;, score=0.870 total time= 1.2min\n",
            "[CV 3/3; 7/7] START optimizer=Nadam.............................................\n",
            "[CV 3/3; 7/7] END ..............optimizer=Nadam;, score=0.865 total time= 1.4min\n",
            "Best: 0.8652833302815756, using {'optimizer': 'Nadam'}\n",
            "0.8636833230654398 (0.0033685693582797306) with: {'optimizer': 'SGD'}\n",
            "0.8633666634559631 (0.002639861835510644) with: {'optimizer': 'RMSprop'}\n",
            "0.8642833431561788 (0.003534893860897537) with: {'optimizer': 'Adagrad'}\n",
            "0.8652166724205017 (0.0070145460631806525) with: {'optimizer': 'Adadelta'}\n",
            "0.8642833232879639 (0.0018780889111814497) with: {'optimizer': 'Adam'}\n",
            "0.8650000095367432 (0.0032272370615804334) with: {'optimizer': 'Adamax'}\n",
            "0.8652833302815756 (0.004084180257559054) with: {'optimizer': 'Nadam'}\n"
          ]
        }
      ]
    },
    {
      "cell_type": "markdown",
      "source": [
        "## Model Building : Neural Network with the Best Hyperparamters Obtained using GridSearchCV"
      ],
      "metadata": {
        "id": "yFcfRcvt1jJk"
      }
    },
    {
      "cell_type": "markdown",
      "source": [
        "### Spliting Dataset into Training & Validation set"
      ],
      "metadata": {
        "id": "e9f8Tf5d0_m_"
      }
    },
    {
      "cell_type": "code",
      "source": [
        "X_train.shape, y_train.shape"
      ],
      "metadata": {
        "colab": {
          "base_uri": "https://localhost:8080/"
        },
        "id": "EHD52xtyfML-",
        "outputId": "41382739-042d-4b40-e0f2-3e8e1c19e93c"
      },
      "execution_count": null,
      "outputs": [
        {
          "output_type": "execute_result",
          "data": {
            "text/plain": [
              "((60000, 28, 28), (60000,))"
            ]
          },
          "metadata": {},
          "execution_count": 15
        }
      ]
    },
    {
      "cell_type": "code",
      "source": [
        "# Train Test Split the Training Data to 80% and Validation Data to 20%\n",
        "import sklearn\n",
        "from sklearn.model_selection import train_test_split\n",
        "from sklearn.metrics import accuracy_score\n",
        "\n",
        "X_train,X_val,y_train,y_val = train_test_split(X_train,y_train,test_size=0.2,random_state= 100)"
      ],
      "metadata": {
        "id": "eg0r1kKqcLqx"
      },
      "execution_count": null,
      "outputs": []
    },
    {
      "cell_type": "code",
      "source": [
        "# shape of training and validation set\n",
        "(X_train.shape, y_train.shape), (X_val.shape, y_val.shape)"
      ],
      "metadata": {
        "colab": {
          "base_uri": "https://localhost:8080/"
        },
        "id": "KxQsVgDRfhhJ",
        "outputId": "2db6ba3f-8760-418b-8131-23ca51d5557b"
      },
      "execution_count": null,
      "outputs": [
        {
          "output_type": "execute_result",
          "data": {
            "text/plain": [
              "(((48000, 28, 28), (48000,)), ((12000, 28, 28), (12000,)))"
            ]
          },
          "metadata": {},
          "execution_count": 17
        }
      ]
    },
    {
      "cell_type": "code",
      "source": [
        "# number of features in the data\n",
        "X_train.shape[1]"
      ],
      "metadata": {
        "colab": {
          "base_uri": "https://localhost:8080/"
        },
        "id": "TfA7fmXgNX1F",
        "outputId": "21a8dae6-8a8f-4ac1-9663-7ee8ebbbeae5"
      },
      "execution_count": null,
      "outputs": [
        {
          "output_type": "execute_result",
          "data": {
            "text/plain": [
              "28"
            ]
          },
          "metadata": {},
          "execution_count": 18
        }
      ]
    },
    {
      "cell_type": "code",
      "source": [
        "# defining input neurons\n",
        "input_neurons = X_train.shape[1]"
      ],
      "metadata": {
        "id": "xwPiNp_2NXov"
      },
      "execution_count": null,
      "outputs": []
    },
    {
      "cell_type": "code",
      "source": [
        "# define number of output neurons\n",
        "output_neurons = 10"
      ],
      "metadata": {
        "id": "0uRAZ7UuNk9Q"
      },
      "execution_count": null,
      "outputs": []
    },
    {
      "cell_type": "markdown",
      "source": [
        "### Neural Network Architecture"
      ],
      "metadata": {
        "id": "lab2TKoY2l8d"
      }
    },
    {
      "cell_type": "code",
      "source": [
        "# importing the sequential model\n",
        "from keras.models import Sequential\n",
        "# importing different layers from keras\n",
        "from keras.layers import InputLayer, Dense\n",
        "from keras.layers import Dropout"
      ],
      "metadata": {
        "id": "IkZmfDPnNlHF"
      },
      "execution_count": null,
      "outputs": []
    },
    {
      "cell_type": "code",
      "source": [
        "# number of hidden layers and hidden neurons\n",
        "# Applying hyperparameters obtained using GridSearch CV \n",
        "# define hidden layers and neuron in each layer\n",
        "number_of_hidden_layers = 2\n",
        "neuron_hidden_layer_1 = 16\n",
        "neuron_hidden_layer_2 = 8"
      ],
      "metadata": {
        "id": "KkBl05N_QUew"
      },
      "execution_count": null,
      "outputs": []
    },
    {
      "cell_type": "code",
      "source": [
        "# defining the Neural network architecture of the model\n",
        "model_final = Sequential()\n",
        "model_final.add(Flatten(input_shape=(28, 28)))\n",
        "model_final.add(Dense(units=neuron_hidden_layer_1, kernel_initializer = 'normal', activation='tanh'))\n",
        "model_final.add(Dropout(0.1))\n",
        "model_final.add(Dense(units=neuron_hidden_layer_2,kernel_initializer = 'normal', activation='tanh'))\n",
        "model_final.add(Dropout(0.1))\n",
        "model_final.add(Dense(units=output_neurons,activation='softmax'))"
      ],
      "metadata": {
        "id": "iFEEGV0xQstt"
      },
      "execution_count": null,
      "outputs": []
    },
    {
      "cell_type": "markdown",
      "source": [
        "### Neural Network Model Summary"
      ],
      "metadata": {
        "id": "NVqnF8If2wfq"
      }
    },
    {
      "cell_type": "code",
      "source": [
        "# summary of the neural network model\n",
        "model_final.summary()"
      ],
      "metadata": {
        "id": "V-58vipWUeKL",
        "colab": {
          "base_uri": "https://localhost:8080/"
        },
        "outputId": "efb63307-d3a5-4361-ffc4-1224cf4f6e16"
      },
      "execution_count": null,
      "outputs": [
        {
          "output_type": "stream",
          "name": "stdout",
          "text": [
            "Model: \"sequential_1\"\n",
            "_________________________________________________________________\n",
            " Layer (type)                Output Shape              Param #   \n",
            "=================================================================\n",
            " flatten_1 (Flatten)         (None, 784)               0         \n",
            "                                                                 \n",
            " dense_2 (Dense)             (None, 16)                12560     \n",
            "                                                                 \n",
            " dropout (Dropout)           (None, 16)                0         \n",
            "                                                                 \n",
            " dense_3 (Dense)             (None, 8)                 136       \n",
            "                                                                 \n",
            " dropout_1 (Dropout)         (None, 8)                 0         \n",
            "                                                                 \n",
            " dense_4 (Dense)             (None, 10)                90        \n",
            "                                                                 \n",
            "=================================================================\n",
            "Total params: 12,786\n",
            "Trainable params: 12,786\n",
            "Non-trainable params: 0\n",
            "_________________________________________________________________\n"
          ]
        }
      ]
    },
    {
      "cell_type": "markdown",
      "source": [
        "### Complie the Model"
      ],
      "metadata": {
        "id": "_mRfDKZj21q2"
      }
    },
    {
      "cell_type": "code",
      "source": [
        "# compiling the model\n",
        "# loss as \"sparse_categorical_crossentropy\", since we have multi class classification problem\n",
        "# defining the optimizer as \"Nadam\" obtained in GridSearhCV\n",
        "# Evaluation metric as \"accuracy\"\n",
        "#define learning rate obtained in GridSearhCV\n",
        "\n",
        "learn_rate = 0.001\n",
        "import tensorflow as tf\n",
        "opt = tf.keras.optimizers.Adam(learning_rate = learn_rate)\n",
        "model_final.compile(loss='sparse_categorical_crossentropy',optimizer='Nadam',metrics=['accuracy'])"
      ],
      "metadata": {
        "id": "Knlbr8cJbJ-z"
      },
      "execution_count": null,
      "outputs": []
    },
    {
      "cell_type": "markdown",
      "source": [
        "### Model Training"
      ],
      "metadata": {
        "id": "1_LPpKcK2-tw"
      }
    },
    {
      "cell_type": "code",
      "source": [
        "# training the model with best hyperparamters obtained in GridSearchCV\n",
        "# passing the independent and dependent features for training set for training the model\n",
        "# validation data will be evaluated at the end of each epoch\n",
        "# storing the trained model in model_history variable which will be used to visualize the training process\n",
        "\n",
        "model_history = model_final.fit(X_train, y_train, validation_data=(X_val, y_val), epochs= 50,batch_size = 50)"
      ],
      "metadata": {
        "colab": {
          "base_uri": "https://localhost:8080/"
        },
        "id": "rT1cNioVc_uv",
        "outputId": "444a4ab6-f8c1-4047-f472-7e12cad51621"
      },
      "execution_count": null,
      "outputs": [
        {
          "output_type": "stream",
          "name": "stdout",
          "text": [
            "Epoch 1/50\n",
            "960/960 [==============================] - 3s 3ms/step - loss: 1.0567 - accuracy: 0.6711 - val_loss: 0.6477 - val_accuracy: 0.7878\n",
            "Epoch 2/50\n",
            "960/960 [==============================] - 2s 2ms/step - loss: 0.6511 - accuracy: 0.7787 - val_loss: 0.5159 - val_accuracy: 0.8130\n",
            "Epoch 3/50\n",
            "960/960 [==============================] - 2s 2ms/step - loss: 0.5714 - accuracy: 0.8025 - val_loss: 0.4683 - val_accuracy: 0.8353\n",
            "Epoch 4/50\n",
            "960/960 [==============================] - 2s 2ms/step - loss: 0.5296 - accuracy: 0.8218 - val_loss: 0.4401 - val_accuracy: 0.8476\n",
            "Epoch 5/50\n",
            "960/960 [==============================] - 2s 2ms/step - loss: 0.5046 - accuracy: 0.8291 - val_loss: 0.4193 - val_accuracy: 0.8543\n",
            "Epoch 6/50\n",
            "960/960 [==============================] - 2s 2ms/step - loss: 0.4881 - accuracy: 0.8348 - val_loss: 0.4165 - val_accuracy: 0.8547\n",
            "Epoch 7/50\n",
            "960/960 [==============================] - 2s 2ms/step - loss: 0.4761 - accuracy: 0.8391 - val_loss: 0.4094 - val_accuracy: 0.8588\n",
            "Epoch 8/50\n",
            "960/960 [==============================] - 2s 2ms/step - loss: 0.4674 - accuracy: 0.8418 - val_loss: 0.3983 - val_accuracy: 0.8612\n",
            "Epoch 9/50\n",
            "960/960 [==============================] - 2s 2ms/step - loss: 0.4585 - accuracy: 0.8444 - val_loss: 0.4051 - val_accuracy: 0.8619\n",
            "Epoch 10/50\n",
            "960/960 [==============================] - 2s 2ms/step - loss: 0.4531 - accuracy: 0.8440 - val_loss: 0.4028 - val_accuracy: 0.8599\n",
            "Epoch 11/50\n",
            "960/960 [==============================] - 2s 2ms/step - loss: 0.4493 - accuracy: 0.8460 - val_loss: 0.3878 - val_accuracy: 0.8648\n",
            "Epoch 12/50\n",
            "960/960 [==============================] - 2s 2ms/step - loss: 0.4448 - accuracy: 0.8475 - val_loss: 0.4008 - val_accuracy: 0.8641\n",
            "Epoch 13/50\n",
            "960/960 [==============================] - 2s 2ms/step - loss: 0.4385 - accuracy: 0.8500 - val_loss: 0.3906 - val_accuracy: 0.8615\n",
            "Epoch 14/50\n",
            "960/960 [==============================] - 2s 2ms/step - loss: 0.4318 - accuracy: 0.8517 - val_loss: 0.3930 - val_accuracy: 0.8616\n",
            "Epoch 15/50\n",
            "960/960 [==============================] - 3s 3ms/step - loss: 0.4315 - accuracy: 0.8503 - val_loss: 0.3873 - val_accuracy: 0.8647\n",
            "Epoch 16/50\n",
            "960/960 [==============================] - 2s 2ms/step - loss: 0.4259 - accuracy: 0.8532 - val_loss: 0.3884 - val_accuracy: 0.8630\n",
            "Epoch 17/50\n",
            "960/960 [==============================] - 2s 2ms/step - loss: 0.4260 - accuracy: 0.8542 - val_loss: 0.3881 - val_accuracy: 0.8647\n",
            "Epoch 18/50\n",
            "960/960 [==============================] - 2s 2ms/step - loss: 0.4230 - accuracy: 0.8548 - val_loss: 0.3910 - val_accuracy: 0.8631\n",
            "Epoch 19/50\n",
            "960/960 [==============================] - 2s 2ms/step - loss: 0.4212 - accuracy: 0.8556 - val_loss: 0.3901 - val_accuracy: 0.8635\n",
            "Epoch 20/50\n",
            "960/960 [==============================] - 2s 2ms/step - loss: 0.4166 - accuracy: 0.8564 - val_loss: 0.3814 - val_accuracy: 0.8648\n",
            "Epoch 21/50\n",
            "960/960 [==============================] - 2s 2ms/step - loss: 0.4140 - accuracy: 0.8587 - val_loss: 0.3949 - val_accuracy: 0.8622\n",
            "Epoch 22/50\n",
            "960/960 [==============================] - 2s 2ms/step - loss: 0.4134 - accuracy: 0.8574 - val_loss: 0.3785 - val_accuracy: 0.8675\n",
            "Epoch 23/50\n",
            "960/960 [==============================] - 2s 2ms/step - loss: 0.4089 - accuracy: 0.8610 - val_loss: 0.3993 - val_accuracy: 0.8600\n",
            "Epoch 24/50\n",
            "960/960 [==============================] - 2s 2ms/step - loss: 0.4088 - accuracy: 0.8594 - val_loss: 0.3950 - val_accuracy: 0.8619\n",
            "Epoch 25/50\n",
            "960/960 [==============================] - 2s 2ms/step - loss: 0.4080 - accuracy: 0.8608 - val_loss: 0.3831 - val_accuracy: 0.8669\n",
            "Epoch 26/50\n",
            "960/960 [==============================] - 2s 2ms/step - loss: 0.4064 - accuracy: 0.8595 - val_loss: 0.3854 - val_accuracy: 0.8652\n",
            "Epoch 27/50\n",
            "960/960 [==============================] - 2s 2ms/step - loss: 0.4031 - accuracy: 0.8599 - val_loss: 0.3852 - val_accuracy: 0.8668\n",
            "Epoch 28/50\n",
            "960/960 [==============================] - 2s 2ms/step - loss: 0.4006 - accuracy: 0.8612 - val_loss: 0.3880 - val_accuracy: 0.8617\n",
            "Epoch 29/50\n",
            "960/960 [==============================] - 2s 2ms/step - loss: 0.4007 - accuracy: 0.8611 - val_loss: 0.3858 - val_accuracy: 0.8670\n",
            "Epoch 30/50\n",
            "960/960 [==============================] - 2s 2ms/step - loss: 0.3953 - accuracy: 0.8623 - val_loss: 0.3823 - val_accuracy: 0.8655\n",
            "Epoch 31/50\n",
            "960/960 [==============================] - 2s 2ms/step - loss: 0.3982 - accuracy: 0.8625 - val_loss: 0.3804 - val_accuracy: 0.8659\n",
            "Epoch 32/50\n",
            "960/960 [==============================] - 2s 2ms/step - loss: 0.3960 - accuracy: 0.8643 - val_loss: 0.3754 - val_accuracy: 0.8688\n",
            "Epoch 33/50\n",
            "960/960 [==============================] - 2s 2ms/step - loss: 0.3948 - accuracy: 0.8615 - val_loss: 0.3808 - val_accuracy: 0.8664\n",
            "Epoch 34/50\n",
            "960/960 [==============================] - 2s 2ms/step - loss: 0.3899 - accuracy: 0.8643 - val_loss: 0.3794 - val_accuracy: 0.8666\n",
            "Epoch 35/50\n",
            "960/960 [==============================] - 2s 2ms/step - loss: 0.3914 - accuracy: 0.8637 - val_loss: 0.3848 - val_accuracy: 0.8643\n",
            "Epoch 36/50\n",
            "960/960 [==============================] - 2s 2ms/step - loss: 0.3899 - accuracy: 0.8650 - val_loss: 0.3872 - val_accuracy: 0.8658\n",
            "Epoch 37/50\n",
            "960/960 [==============================] - 2s 2ms/step - loss: 0.3905 - accuracy: 0.8656 - val_loss: 0.3823 - val_accuracy: 0.8648\n",
            "Epoch 38/50\n",
            "960/960 [==============================] - 2s 2ms/step - loss: 0.3898 - accuracy: 0.8646 - val_loss: 0.3734 - val_accuracy: 0.8708\n",
            "Epoch 39/50\n",
            "960/960 [==============================] - 2s 2ms/step - loss: 0.3880 - accuracy: 0.8650 - val_loss: 0.3710 - val_accuracy: 0.8691\n",
            "Epoch 40/50\n",
            "960/960 [==============================] - 2s 2ms/step - loss: 0.3855 - accuracy: 0.8674 - val_loss: 0.3853 - val_accuracy: 0.8632\n",
            "Epoch 41/50\n",
            "960/960 [==============================] - 2s 2ms/step - loss: 0.3855 - accuracy: 0.8665 - val_loss: 0.3732 - val_accuracy: 0.8708\n",
            "Epoch 42/50\n",
            "960/960 [==============================] - 2s 2ms/step - loss: 0.3853 - accuracy: 0.8661 - val_loss: 0.3757 - val_accuracy: 0.8669\n",
            "Epoch 43/50\n",
            "960/960 [==============================] - 2s 2ms/step - loss: 0.3837 - accuracy: 0.8675 - val_loss: 0.3820 - val_accuracy: 0.8649\n",
            "Epoch 44/50\n",
            "960/960 [==============================] - 2s 2ms/step - loss: 0.3854 - accuracy: 0.8671 - val_loss: 0.3718 - val_accuracy: 0.8689\n",
            "Epoch 45/50\n",
            "960/960 [==============================] - 2s 2ms/step - loss: 0.3821 - accuracy: 0.8679 - val_loss: 0.3725 - val_accuracy: 0.8693\n",
            "Epoch 46/50\n",
            "960/960 [==============================] - 2s 2ms/step - loss: 0.3816 - accuracy: 0.8679 - val_loss: 0.3731 - val_accuracy: 0.8698\n",
            "Epoch 47/50\n",
            "960/960 [==============================] - 2s 2ms/step - loss: 0.3807 - accuracy: 0.8666 - val_loss: 0.3715 - val_accuracy: 0.8701\n",
            "Epoch 48/50\n",
            "960/960 [==============================] - 2s 2ms/step - loss: 0.3780 - accuracy: 0.8684 - val_loss: 0.3798 - val_accuracy: 0.8689\n",
            "Epoch 49/50\n",
            "960/960 [==============================] - 2s 2ms/step - loss: 0.3761 - accuracy: 0.8691 - val_loss: 0.3898 - val_accuracy: 0.8632\n",
            "Epoch 50/50\n",
            "960/960 [==============================] - 2s 2ms/step - loss: 0.3780 - accuracy: 0.8678 - val_loss: 0.3786 - val_accuracy: 0.8696\n"
          ]
        }
      ]
    },
    {
      "cell_type": "markdown",
      "source": [
        "### Model Evaluation"
      ],
      "metadata": {
        "id": "UsNveUHO3JVI"
      }
    },
    {
      "cell_type": "code",
      "source": [
        "model_final.evaluate(X_train, y_train)"
      ],
      "metadata": {
        "colab": {
          "base_uri": "https://localhost:8080/"
        },
        "id": "-XcxiuWmlqBT",
        "outputId": "96a124a7-e0f7-48d5-a1de-db0662aeec25"
      },
      "execution_count": null,
      "outputs": [
        {
          "output_type": "stream",
          "name": "stdout",
          "text": [
            "1500/1500 [==============================] - 3s 2ms/step - loss: 0.2915 - accuracy: 0.8983\n"
          ]
        },
        {
          "output_type": "execute_result",
          "data": {
            "text/plain": [
              "[0.29153722524642944, 0.8982916474342346]"
            ]
          },
          "metadata": {},
          "execution_count": 27
        }
      ]
    },
    {
      "cell_type": "code",
      "source": [
        "model_final.evaluate(X_val, y_val)"
      ],
      "metadata": {
        "colab": {
          "base_uri": "https://localhost:8080/"
        },
        "id": "bSvaDGPjmLWD",
        "outputId": "e76722a4-67ec-4d13-e937-6953d0912713"
      },
      "execution_count": null,
      "outputs": [
        {
          "output_type": "stream",
          "name": "stdout",
          "text": [
            "375/375 [==============================] - 1s 2ms/step - loss: 0.3786 - accuracy: 0.8696\n"
          ]
        },
        {
          "output_type": "execute_result",
          "data": {
            "text/plain": [
              "[0.37862977385520935, 0.8695833086967468]"
            ]
          },
          "metadata": {},
          "execution_count": 28
        }
      ]
    },
    {
      "cell_type": "code",
      "source": [
        "#Model Accuracy Results\n",
        "print(\"Results:\")\n",
        "print(\"--------\")\n",
        "scores_train = model_final.evaluate(X_train, y_train, verbose=2)\n",
        "print(\"Training Accuracy: %.2f%%\\n\" % (scores_train[1] * 100))\n",
        "scores_val = model_final.evaluate(X_val, y_val, verbose= 2)\n",
        "print(\"Validation Accuracy: %.2f%%\\n\" % (scores_val[1] * 100))"
      ],
      "metadata": {
        "colab": {
          "base_uri": "https://localhost:8080/"
        },
        "id": "-LtHt_0od_Gk",
        "outputId": "0581ee60-45b0-442e-d386-8bdd0ae179c8"
      },
      "execution_count": null,
      "outputs": [
        {
          "output_type": "stream",
          "name": "stdout",
          "text": [
            "Results:\n",
            "--------\n",
            "1500/1500 - 2s - loss: 0.2915 - accuracy: 0.8983 - 2s/epoch - 2ms/step\n",
            "Training Accuracy: 89.83%\n",
            "\n",
            "375/375 - 1s - loss: 0.3786 - accuracy: 0.8696 - 593ms/epoch - 2ms/step\n",
            "Validation Accuracy: 86.96%\n",
            "\n"
          ]
        }
      ]
    },
    {
      "cell_type": "markdown",
      "source": [
        "### Model Accuracy Results on Train & Validation Data\n",
        "\n",
        "After applying Hyperparameter tuning using GridSearchCV, we can observe that the accuracy of Training dataset is **89.83%** and validation dataset is **86.96%**.\n",
        "\n",
        "In comparision with the neural network model accuracy obtained without hyperparameter tuning, there was high gap between training and testing data but after applying hyperparameter tuning GridSearchCV technique we were able to reduce the overfitting.\n",
        "\n",
        "Hence, we can we say that our Neural Network model with hyperparamter tuning is more generalized and prevented overfitting."
      ],
      "metadata": {
        "id": "Gv49J8t23jct"
      }
    },
    {
      "cell_type": "markdown",
      "source": [
        "### Neural Network : Model Loss on Train and Validation Data"
      ],
      "metadata": {
        "id": "SkhUVMbR6lw4"
      }
    },
    {
      "cell_type": "code",
      "source": [
        "# summarize history for loss\n",
        "plt.figure(figsize = (15,7))\n",
        "plt.plot(model_history.history['loss'])\n",
        "plt.plot(model_history.history['val_loss'])\n",
        "plt.title('Model loss')\n",
        "plt.ylabel('Loss')\n",
        "plt.xlabel('Epoch')\n",
        "plt.legend(['Train Loss', 'Validation Loss'], loc='upper right')\n",
        "plt.xlim(0,50)\n",
        "plt.ylim(0.1,1.0)\n",
        "plt.show()"
      ],
      "metadata": {
        "colab": {
          "base_uri": "https://localhost:8080/",
          "height": 458
        },
        "id": "VFQZIPGWe6wx",
        "outputId": "6c0606a2-a337-4d47-a0ba-f9380ae6dd2a"
      },
      "execution_count": null,
      "outputs": [
        {
          "output_type": "display_data",
          "data": {
            "text/plain": [
              "<Figure size 1080x504 with 1 Axes>"
            ],
            "image/png": "[encoded data removed]"
          },
          "metadata": {
            "needs_background": "light"
          }
        }
      ]
    },
    {
      "cell_type": "markdown",
      "source": [
        "### Neural Network: Model Accuracy on Train and Validation Data"
      ],
      "metadata": {
        "id": "CXLSwazH6pX9"
      }
    },
    {
      "cell_type": "code",
      "source": [
        "# summarize history for accuracy\n",
        "plt.figure(figsize = (15,7))\n",
        "plt.plot(model_history.history['accuracy'])\n",
        "plt.plot(model_history.history['val_accuracy'])\n",
        "plt.title('Model Accuracy')\n",
        "plt.ylabel('Accuracy')\n",
        "plt.xlabel('Epoch')\n",
        "plt.legend(['Train Accuracy', 'Validation Accuracy'], loc='upper right')\n",
        "plt.xlim(0,50)\n",
        "plt.ylim(0.5,1.0)\n",
        "plt.show()"
      ],
      "metadata": {
        "colab": {
          "base_uri": "https://localhost:8080/",
          "height": 458
        },
        "id": "29b3TnkQfGEO",
        "outputId": "eb41695e-350f-49a7-d779-e4f72ab2e192"
      },
      "execution_count": null,
      "outputs": [
        {
          "output_type": "display_data",
          "data": {
            "text/plain": [
              "<Figure size 1080x504 with 1 Axes>"
            ],
            "image/png": "[encoded data removed]"
          },
          "metadata": {
            "needs_background": "light"
          }
        }
      ]
    },
    {
      "cell_type": "markdown",
      "source": [
        "## Predictions on Test Data"
      ],
      "metadata": {
        "id": "DsU85_gB60M6"
      }
    },
    {
      "cell_type": "markdown",
      "source": [
        "### Model Accuracy Results on Test Data"
      ],
      "metadata": {
        "id": "MuUl7A147mvq"
      }
    },
    {
      "cell_type": "code",
      "source": [
        "X_test.shape,y_test.shape"
      ],
      "metadata": {
        "colab": {
          "base_uri": "https://localhost:8080/"
        },
        "id": "-aA9EOk4sofb",
        "outputId": "88b1f404-7202-4986-e539-5a6cc887b639"
      },
      "execution_count": null,
      "outputs": [
        {
          "output_type": "execute_result",
          "data": {
            "text/plain": [
              "((10000, 28, 28), (10000,))"
            ]
          },
          "metadata": {},
          "execution_count": 32
        }
      ]
    },
    {
      "cell_type": "code",
      "source": [
        "scores_test = model_final.evaluate(X_test,y_test)"
      ],
      "metadata": {
        "colab": {
          "base_uri": "https://localhost:8080/"
        },
        "id": "6VNaGZnEpLKc",
        "outputId": "ddb40cf9-6046-4b99-c9a4-94dc96e66ebc"
      },
      "execution_count": null,
      "outputs": [
        {
          "output_type": "stream",
          "name": "stdout",
          "text": [
            "313/313 [==============================] - 1s 2ms/step - loss: 0.4206 - accuracy: 0.8566\n"
          ]
        }
      ]
    },
    {
      "cell_type": "code",
      "source": [
        "scores_test = model_final.evaluate(X_test, y_test, verbose=2)\n",
        "print(\"Testing Accuracy: %.2f%%\\n\" % (scores_test[1] * 100))"
      ],
      "metadata": {
        "colab": {
          "base_uri": "https://localhost:8080/"
        },
        "id": "x1HVdHsEpZaD",
        "outputId": "26691254-f3d0-465a-cdd4-c8bcad9fec57"
      },
      "execution_count": null,
      "outputs": [
        {
          "output_type": "stream",
          "name": "stdout",
          "text": [
            "313/313 - 1s - loss: 0.4206 - accuracy: 0.8566 - 517ms/epoch - 2ms/step\n",
            "Testing Accuracy: 85.66%\n",
            "\n"
          ]
        }
      ]
    },
    {
      "cell_type": "markdown",
      "source": [
        "### Model Accuracy Results Summary"
      ],
      "metadata": {
        "id": "M0RMiIlqFKoB"
      }
    },
    {
      "cell_type": "markdown",
      "source": [
        "![image.png](data:image/png;base64,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)"
      ],
      "metadata": {
        "id": "rUQB2hxtEdFi"
      }
    },
    {
      "cell_type": "markdown",
      "source": [
        "**With the model trained with best hyperparameters, we can use it to make predictions on test data.**\n",
        "\n",
        "**Accuracy given by Training set is 89.83% and Accuracy given by Testing set is 85.66%.**\n",
        "\n",
        "**Hence, we can we say that, neural network model is more generalized (learns well) and even performs better on testing data.**\n",
        "\n",
        "\n"
      ],
      "metadata": {
        "id": "pkoH90Nz8iVf"
      }
    },
    {
      "cell_type": "code",
      "source": [
        "#Add a softmax layer to convert the model's linear outputs logits to probabilities, which should be easier to interpret.\n",
        "probability_model = tf.keras.Sequential([model_final, tf.keras.layers.Softmax()])"
      ],
      "metadata": {
        "id": "M4VPpp90f_-X"
      },
      "execution_count": null,
      "outputs": []
    },
    {
      "cell_type": "code",
      "source": [
        "predictions = probability_model.predict(X_test)"
      ],
      "metadata": {
        "id": "vOhcAL5hgMQw"
      },
      "execution_count": null,
      "outputs": []
    },
    {
      "cell_type": "code",
      "source": [
        "# Model has predicted the label for each image in the testing set. Let's take a look at the first prediction:\n",
        "predictions[0]"
      ],
      "metadata": {
        "colab": {
          "base_uri": "https://localhost:8080/"
        },
        "id": "nhBrlCtAgYLX",
        "outputId": "6ddba164-8d8e-421f-b4ff-47be0ca5673b"
      },
      "execution_count": null,
      "outputs": [
        {
          "output_type": "execute_result",
          "data": {
            "text/plain": [
              "array([0.08551714, 0.08550946, 0.08550968, 0.08550941, 0.08550943,\n",
              "       0.08579294, 0.08550984, 0.08640984, 0.08551545, 0.22921683],\n",
              "      dtype=float32)"
            ]
          },
          "metadata": {},
          "execution_count": 39
        }
      ]
    },
    {
      "cell_type": "code",
      "source": [
        "#It represents the model's \"confidence\" that the image corresponds to each of the 10 different articles of clothing. \n",
        "#We can see which label has the highest confidence value:\n",
        "np.argmax(predictions[0])"
      ],
      "metadata": {
        "colab": {
          "base_uri": "https://localhost:8080/"
        },
        "id": "mBFRru4lgeOQ",
        "outputId": "39adcba4-f5f1-4084-945f-d31807559a92"
      },
      "execution_count": null,
      "outputs": [
        {
          "output_type": "execute_result",
          "data": {
            "text/plain": [
              "9"
            ]
          },
          "metadata": {},
          "execution_count": 40
        }
      ]
    },
    {
      "cell_type": "markdown",
      "source": [
        "So, the model is most confident that this image is an ankle boot, or class_names[9]. By checking the test label shows that **\"Ankle Boot\"** classification is correct."
      ],
      "metadata": {
        "id": "r8cWfkRo-97c"
      }
    },
    {
      "cell_type": "code",
      "source": [
        "y_test[0]"
      ],
      "metadata": {
        "colab": {
          "base_uri": "https://localhost:8080/"
        },
        "id": "FZ59-bbLglmW",
        "outputId": "58491c02-4b82-43a6-d161-3cb1d32f241d"
      },
      "execution_count": null,
      "outputs": [
        {
          "output_type": "execute_result",
          "data": {
            "text/plain": [
              "9"
            ]
          },
          "metadata": {},
          "execution_count": 41
        }
      ]
    },
    {
      "cell_type": "code",
      "source": [
        "plt.figure(figsize = (8,8))\n",
        "plt.imshow(X_test[0],cmap = 'Greys');"
      ],
      "metadata": {
        "colab": {
          "base_uri": "https://localhost:8080/",
          "height": 483
        },
        "id": "z9EN_jIYhitZ",
        "outputId": "27c97853-575f-44e9-f99c-c3cd515e1a94"
      },
      "execution_count": null,
      "outputs": [
        {
          "output_type": "display_data",
          "data": {
            "text/plain": [
              "<Figure size 576x576 with 1 Axes>"
            ],
            "image/png": "[encoded data removed]"
          },
          "metadata": {
            "needs_background": "light"
          }
        }
      ]
    },
    {
      "cell_type": "markdown",
      "source": [
        "### Plotting Predictions on Test Data Images"
      ],
      "metadata": {
        "id": "deSHPjC3_UL4"
      }
    },
    {
      "cell_type": "code",
      "source": [
        "# Plot the first 25 test images, their predicted labels, and the true labels.\n",
        "plt.figure(figsize=(20,30))\n",
        "j = 1\n",
        "for i in np.random.randint(0,1000,25):\n",
        "  plt.subplot(5,5,j); j+=1\n",
        "  plt.imshow(X_test[i].reshape(28,28),cmap = 'Greys')\n",
        "  plt.axis('off')\n",
        "  plt.title('Actual = {} / {} \\nPredicted = {} / {}'.format(class_labels[y_test[i]],y_test[i],class_labels[np.argmax(predictions[i])],np.argmax(predictions[i])))"
      ],
      "metadata": {
        "colab": {
          "base_uri": "https://localhost:8080/",
          "height": 1000
        },
        "id": "y7KTbLPBzcr9",
        "outputId": "a236a98b-3160-4c10-821a-9a4d11f4e3f3"
      },
      "execution_count": null,
      "outputs": [
        {
          "output_type": "display_data",
          "data": {
            "text/plain": [
              "<Figure size 1440x2160 with 25 Axes>"
            ],
            "image/png": "[encoded data removed]"
          },
          "metadata": {
            "needs_background": "light"
          }
        }
      ]
    },
    {
      "cell_type": "markdown",
      "source": [
        "### Model Evaluation on Test Data : Confusion Matrix"
      ],
      "metadata": {
        "id": "PeVYo5bDA4Lu"
      }
    },
    {
      "cell_type": "code",
      "source": [
        "from sklearn.metrics import confusion_matrix\n",
        "plt.figure(figsize = (16,8))\n",
        "y_pred_labels = [np.argmax(label) for label in predictions]\n",
        "cm = confusion_matrix(y_test,y_pred_labels)\n",
        "\n",
        "# HeatMap\n",
        "sns.heatmap(cm , annot = True,fmt = 'd',xticklabels = class_labels,yticklabels = class_labels,cmap = 'viridis');"
      ],
      "metadata": {
        "colab": {
          "base_uri": "https://localhost:8080/",
          "height": 483
        },
        "id": "V2GZEt-y0voK",
        "outputId": "2eca15ac-d102-448b-f17f-7b008a8b3c55"
      },
      "execution_count": null,
      "outputs": [
        {
          "output_type": "display_data",
          "data": {
            "text/plain": [
              "<Figure size 1152x576 with 2 Axes>"
            ],
            "image/png": "[encoded data removed]"
          },
          "metadata": {
            "needs_background": "light"
          }
        }
      ]
    },
    {
      "cell_type": "markdown",
      "source": [
        "### Model Evaluation: Classification Report on Test Data"
      ],
      "metadata": {
        "id": "NJG7cVZMANKq"
      }
    },
    {
      "cell_type": "code",
      "source": [
        "from sklearn.metrics import classification_report\n",
        "report = classification_report (y_test,y_pred_labels,target_names = class_labels)\n",
        "print(report)"
      ],
      "metadata": {
        "colab": {
          "base_uri": "https://localhost:8080/"
        },
        "id": "GILE3zhD0jWT",
        "outputId": "57342ea7-c39f-4d31-823f-451be4ffd078"
      },
      "execution_count": null,
      "outputs": [
        {
          "output_type": "stream",
          "name": "stdout",
          "text": [
            "              precision    recall  f1-score   support\n",
            "\n",
            " T-shirt/top       0.82      0.81      0.81      1000\n",
            "     Trouser       0.98      0.95      0.96      1000\n",
            "    Pullover       0.72      0.81      0.76      1000\n",
            "       Dress       0.84      0.88      0.86      1000\n",
            "        Coat       0.77      0.75      0.76      1000\n",
            "      Sandal       0.97      0.92      0.94      1000\n",
            "       Shirt       0.67      0.58      0.62      1000\n",
            "    Sneakers       0.93      0.94      0.93      1000\n",
            "         Bag       0.94      0.96      0.95      1000\n",
            "  Ankle boot       0.92      0.96      0.94      1000\n",
            "\n",
            "    accuracy                           0.86     10000\n",
            "   macro avg       0.86      0.86      0.86     10000\n",
            "weighted avg       0.86      0.86      0.86     10000\n",
            "\n"
          ]
        }
      ]
    }
  ]
}